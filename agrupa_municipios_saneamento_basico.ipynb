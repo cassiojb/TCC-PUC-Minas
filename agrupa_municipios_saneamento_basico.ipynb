{
 "cells": [
  {
   "cell_type": "markdown",
   "metadata": {},
   "source": [
    "# PONTIFÍCIA UNIVERSIDADE CATÓLICA DE MINAS GERAIS\n",
    "## NÚCLEO DE EDUCAÇÃO A DISTÂNCIA\n",
    "## Pós-graduação Lato Sensu em Ciência de Dados e Big Data\n",
    "\n",
    "\n",
    "## Cássio Luís José Barbosa\n",
    "\n",
    "\n",
    "## AGRUPAMENTO DE MUNICÍPIOS PARA LEILÕES DE CONCESSÃO DE SERVIÇOS DE SANEAMENTO BÁSICO USANDO TÉCNICAS DE MACHINE LEARNING\n",
    "\n",
    "\n",
    "## Campinas-SP\n",
    "## 2020\n",
    "\n",
    "## Versão do script: 1.21.1"
   ]
  },
  {
   "cell_type": "markdown",
   "metadata": {},
   "source": [
    "## Bibliotecas importadas"
   ]
  },
  {
   "cell_type": "code",
   "execution_count": 1,
   "metadata": {},
   "outputs": [
    {
     "name": "stderr",
     "output_type": "stream",
     "text": [
      "C:\\Users\\cassio\\Anaconda3\\lib\\site-packages\\sklearn\\utils\\deprecation.py:143: FutureWarning: The sklearn.tree.export module is  deprecated in version 0.22 and will be removed in version 0.24. The corresponding classes / functions should instead be imported from sklearn.tree. Anything that cannot be imported from sklearn.tree is now part of the private API.\n",
      "  warnings.warn(message, FutureWarning)\n"
     ]
    }
   ],
   "source": [
    "import pandas as pd\n",
    "import math\n",
    "import matplotlib.pyplot as plt\n",
    "import numpy as np\n",
    "import pylab as pl\n",
    "import re\n",
    "import researchpy as rp\n",
    "import seaborn as sns\n",
    "import unidecode\n",
    "import scipy.stats as stats\n",
    "\n",
    "from IPython.core.display import display, HTML\n",
    "from mpl_toolkits.mplot3d import Axes3D\n",
    "from sklearn.cluster import KMeans\n",
    "from sklearn.cluster import DBSCAN\n",
    "from sklearn.metrics import silhouette_score\n",
    "from sklearn.metrics import classification_report\n",
    "from sklearn.metrics import confusion_matrix\n",
    "from sklearn.metrics import precision_score\n",
    "from sklearn.metrics import precision_recall_fscore_support\n",
    "from sklearn.metrics import accuracy_score\n",
    "from sklearn.model_selection import train_test_split\n",
    "from sklearn.neighbors import NearestNeighbors\n",
    "from sklearn.preprocessing import StandardScaler\n",
    "from sklearn.tree import DecisionTreeClassifier\n",
    "from sklearn.tree.export import export_text\n",
    "from scipy import stats"
   ]
  },
  {
   "cell_type": "markdown",
   "metadata": {},
   "source": [
    "## Configurações do ambiente"
   ]
  },
  {
   "cell_type": "code",
   "execution_count": 2,
   "metadata": {},
   "outputs": [
    {
     "name": "stdout",
     "output_type": "stream",
     "text": [
      "['Solarize_Light2', '_classic_test_patch', 'bmh', 'classic', 'dark_background', 'fast', 'fivethirtyeight', 'ggplot', 'grayscale', 'seaborn', 'seaborn-bright', 'seaborn-colorblind', 'seaborn-dark', 'seaborn-dark-palette', 'seaborn-darkgrid', 'seaborn-deep', 'seaborn-muted', 'seaborn-notebook', 'seaborn-paper', 'seaborn-pastel', 'seaborn-poster', 'seaborn-talk', 'seaborn-ticks', 'seaborn-white', 'seaborn-whitegrid', 'tableau-colorblind10']\n"
     ]
    }
   ],
   "source": [
    "print(plt.style.available)"
   ]
  },
  {
   "cell_type": "code",
   "execution_count": 3,
   "metadata": {},
   "outputs": [],
   "source": [
    "plt.style.use('fivethirtyeight')"
   ]
  },
  {
   "cell_type": "code",
   "execution_count": 4,
   "metadata": {},
   "outputs": [],
   "source": [
    "pd.options.display.max_columns = 150\n",
    "pd.options.display.max_rows = 150"
   ]
  },
  {
   "cell_type": "code",
   "execution_count": 5,
   "metadata": {},
   "outputs": [],
   "source": [
    "pd.options.mode.chained_assignment = None"
   ]
  },
  {
   "cell_type": "code",
   "execution_count": 6,
   "metadata": {},
   "outputs": [],
   "source": [
    "pd.options.display.float_format = '{:,.2f}'.format"
   ]
  },
  {
   "cell_type": "markdown",
   "metadata": {},
   "source": [
    "## Constantes"
   ]
  },
  {
   "cell_type": "code",
   "execution_count": 7,
   "metadata": {},
   "outputs": [],
   "source": [
    "REGIAO_ANALISADA = \"Nordeste\""
   ]
  },
  {
   "cell_type": "markdown",
   "metadata": {
    "raw_mimetype": "text/markdown"
   },
   "source": [
    "## Biblioteca de funções do script"
   ]
  },
  {
   "cell_type": "code",
   "execution_count": 8,
   "metadata": {},
   "outputs": [],
   "source": [
    "#Função para efetuar uma descrição estatística personalizada\n",
    "def describe_personalizado(df):\n",
    "    desc = df.describe().copy()\n",
    "    part_desc = desc.loc[desc.index.isin(['mean', 'std'])]\n",
    "    std = part_desc.loc[part_desc.index.isin(['std'])].values.tolist()[0]\n",
    "    mean = part_desc.loc[part_desc.index.isin(['mean'])].values.tolist()[0]\n",
    "    std_pc = [(a / b)  for a, b in zip(std, mean)]\n",
    "    part_desc.loc[len(part_desc)] = std_pc\n",
    "    part_desc.rename(index={2:'std / mean'}, inplace=True)\n",
    "    return part_desc"
   ]
  },
  {
   "cell_type": "code",
   "execution_count": 9,
   "metadata": {},
   "outputs": [],
   "source": [
    "#Função para calcular porcentagem\n",
    "def calc_percentual(x,tot):\n",
    "    return (int(x)/int(tot))*100"
   ]
  },
  {
   "cell_type": "code",
   "execution_count": 10,
   "metadata": {},
   "outputs": [],
   "source": [
    "#Função para calcular porcentagem com limite máximo de 100%\n",
    "def calc_percentual_com_valor_maximo(x,tot):\n",
    "    if (int(tot) == 0):\n",
    "        return 0\n",
    "    return min(  (int(x)/int(tot))*100, 100  )"
   ]
  },
  {
   "cell_type": "code",
   "execution_count": 11,
   "metadata": {},
   "outputs": [],
   "source": [
    "#Calcula o volume de agua tratada disponível\n",
    "def calc_VOL_AGUA_TRATADA_DISP(ag007, ag015, ag018, ag019):\n",
    "    return int(ag007) + int(ag015) + int(ag018) - int(ag019)"
   ]
  },
  {
   "cell_type": "code",
   "execution_count": 12,
   "metadata": {},
   "outputs": [],
   "source": [
    "#Calcula o volume de agua tratada disponível per capita\n",
    "def calc_VOL_AGUA_TRATADA_DISP_PER_CAPITA(ag007, ag015, ag018, ag019, pop):\n",
    "    return (int(ag007) + int(ag015) + int(ag018) - int(ag019))*1000 / int(pop)"
   ]
  },
  {
   "cell_type": "code",
   "execution_count": 13,
   "metadata": {},
   "outputs": [],
   "source": [
    "#Calcula o volume de esgoto coletado per capita\n",
    "def calc_VOL_ESGOTO_COLETADO_PER_CAPITA(es005, pop):\n",
    "    return int(es005)*1000 / int(pop)"
   ]
  },
  {
   "cell_type": "code",
   "execution_count": 14,
   "metadata": {},
   "outputs": [],
   "source": [
    "#Função para compor o código do município no padrão IBGE a partir de um código de UF e \n",
    "#código de município.\n",
    "#O código de municípios do IBGE possui 7 caracteres, sendo que os dois primeiros representam \n",
    "#o estado da federação, os quatro seguintes o código do município dentro do estado e o \n",
    "#último é um dígito verificador.\n",
    "def comp_cod_munic_ibge(co_uf, co_mu):\n",
    "    co_uf = str(int(co_uf))\n",
    "    co_mu = str(int(co_mu))\n",
    "    return (co_uf.strip().zfill(2) + co_mu.strip().zfill(5))[0:6]"
   ]
  },
  {
   "cell_type": "code",
   "execution_count": 15,
   "metadata": {},
   "outputs": [],
   "source": [
    "#Função para padronizar um código de município para 6 caracteres\n",
    "def padroniza_cod_munic_ibge(co_mu):\n",
    "    co_mu = str(int(co_mu))\n",
    "    return co_mu.strip().zfill(6)[0:6]"
   ]
  },
  {
   "cell_type": "markdown",
   "metadata": {},
   "source": [
    "## Importação dos dados"
   ]
  },
  {
   "cell_type": "code",
   "execution_count": 16,
   "metadata": {},
   "outputs": [],
   "source": [
    "#Ministério do Desenvolvimento Regional, SNIS (Sistema Nacional de Informações sobre \n",
    "#Saneamento)\n",
    "#Informações e indicadores municipais consolidados do ano de 2018\n",
    "#URL da fonte: http://app4.mdr.gov.br/serieHistorica/#\n",
    "\n",
    "dt_mdr_snis = pd.read_csv(\"../Dados/MDR - SNIS/Dataset/ConsolidadoMunicipio-20200704150919.csv\", sep=\";\", decimal=\",\", thousands=\".\", encoding=\"utf8\")"
   ]
  },
  {
   "cell_type": "code",
   "execution_count": 17,
   "metadata": {},
   "outputs": [],
   "source": [
    "#IBGE - Produto Interno Bruto dos Municípios (dados de 2010-2017)\n",
    "#URL da fonte: https://www.ibge.gov.br/estatisticas/economicas/contas-nacionais/9088-produto-interno-bruto-dos-municipios.html?=&t=o-que-e\n",
    "\n",
    "dt_ibge_pib = pd.read_csv(\"../Dados/IBGE- PIB dos Municípios/Dataset/PIB dos Municípios - base de dados 2010-2017.csv\", sep=\";\", decimal=\",\", thousands=\".\", low_memory=False, encoding=\"utf8\")\n",
    "\n",
    "#Filtra apenas o anos mais recente de 2017\n",
    "dt_ibge_pib = dt_ibge_pib[dt_ibge_pib['ANO'] == 2017]"
   ]
  },
  {
   "cell_type": "markdown",
   "metadata": {},
   "source": [
    "### Verificando a quantidade de registros e colunas dos dataframes"
   ]
  },
  {
   "cell_type": "code",
   "execution_count": 125,
   "metadata": {},
   "outputs": [
    {
     "data": {
      "text/plain": [
       "(5570, 24)"
      ]
     },
     "execution_count": 125,
     "metadata": {},
     "output_type": "execute_result"
    }
   ],
   "source": [
    "dt_mdr_snis.shape"
   ]
  },
  {
   "cell_type": "code",
   "execution_count": 126,
   "metadata": {},
   "outputs": [
    {
     "data": {
      "text/plain": [
       "(5570, 43)"
      ]
     },
     "execution_count": 126,
     "metadata": {},
     "output_type": "execute_result"
    }
   ],
   "source": [
    "dt_ibge_pib.shape"
   ]
  },
  {
   "cell_type": "markdown",
   "metadata": {},
   "source": [
    "### Verificando o tipo de dados atribuídos na importação"
   ]
  },
  {
   "cell_type": "code",
   "execution_count": 18,
   "metadata": {},
   "outputs": [
    {
     "data": {
      "text/html": [
       "<div>\n",
       "<style scoped>\n",
       "    .dataframe tbody tr th:only-of-type {\n",
       "        vertical-align: middle;\n",
       "    }\n",
       "\n",
       "    .dataframe tbody tr th {\n",
       "        vertical-align: top;\n",
       "    }\n",
       "\n",
       "    .dataframe thead th {\n",
       "        text-align: right;\n",
       "    }\n",
       "</style>\n",
       "<table border=\"1\" class=\"dataframe\">\n",
       "  <thead>\n",
       "    <tr style=\"text-align: right;\">\n",
       "      <th></th>\n",
       "      <th>0</th>\n",
       "    </tr>\n",
       "  </thead>\n",
       "  <tbody>\n",
       "    <tr>\n",
       "      <th>CODIGO_DO_MUNICIPIO</th>\n",
       "      <td>int64</td>\n",
       "    </tr>\n",
       "    <tr>\n",
       "      <th>MUNICIPIO</th>\n",
       "      <td>object</td>\n",
       "    </tr>\n",
       "    <tr>\n",
       "      <th>ESTADO</th>\n",
       "      <td>object</td>\n",
       "    </tr>\n",
       "    <tr>\n",
       "      <th>ANO_DE_REFERENCIA</th>\n",
       "      <td>int64</td>\n",
       "    </tr>\n",
       "    <tr>\n",
       "      <th>PRESTADORES</th>\n",
       "      <td>object</td>\n",
       "    </tr>\n",
       "    <tr>\n",
       "      <th>SERVICOS</th>\n",
       "      <td>object</td>\n",
       "    </tr>\n",
       "    <tr>\n",
       "      <th>G06A</th>\n",
       "      <td>float64</td>\n",
       "    </tr>\n",
       "    <tr>\n",
       "      <th>G06B</th>\n",
       "      <td>float64</td>\n",
       "    </tr>\n",
       "    <tr>\n",
       "      <th>G12A</th>\n",
       "      <td>float64</td>\n",
       "    </tr>\n",
       "    <tr>\n",
       "      <th>G12B</th>\n",
       "      <td>float64</td>\n",
       "    </tr>\n",
       "    <tr>\n",
       "      <th>POP_TOT</th>\n",
       "      <td>int64</td>\n",
       "    </tr>\n",
       "    <tr>\n",
       "      <th>POP_URB</th>\n",
       "      <td>int64</td>\n",
       "    </tr>\n",
       "    <tr>\n",
       "      <th>AG001</th>\n",
       "      <td>float64</td>\n",
       "    </tr>\n",
       "    <tr>\n",
       "      <th>AG007</th>\n",
       "      <td>float64</td>\n",
       "    </tr>\n",
       "    <tr>\n",
       "      <th>AG015</th>\n",
       "      <td>float64</td>\n",
       "    </tr>\n",
       "    <tr>\n",
       "      <th>AG018</th>\n",
       "      <td>float64</td>\n",
       "    </tr>\n",
       "    <tr>\n",
       "      <th>AG019</th>\n",
       "      <td>float64</td>\n",
       "    </tr>\n",
       "    <tr>\n",
       "      <th>ES001</th>\n",
       "      <td>float64</td>\n",
       "    </tr>\n",
       "    <tr>\n",
       "      <th>ES005</th>\n",
       "      <td>float64</td>\n",
       "    </tr>\n",
       "    <tr>\n",
       "      <th>ES006</th>\n",
       "      <td>float64</td>\n",
       "    </tr>\n",
       "    <tr>\n",
       "      <th>ES012</th>\n",
       "      <td>float64</td>\n",
       "    </tr>\n",
       "    <tr>\n",
       "      <th>ES013</th>\n",
       "      <td>float64</td>\n",
       "    </tr>\n",
       "    <tr>\n",
       "      <th>ES014</th>\n",
       "      <td>float64</td>\n",
       "    </tr>\n",
       "    <tr>\n",
       "      <th>ES015</th>\n",
       "      <td>float64</td>\n",
       "    </tr>\n",
       "  </tbody>\n",
       "</table>\n",
       "</div>"
      ],
      "text/plain": [
       "                           0\n",
       "CODIGO_DO_MUNICIPIO    int64\n",
       "MUNICIPIO             object\n",
       "ESTADO                object\n",
       "ANO_DE_REFERENCIA      int64\n",
       "PRESTADORES           object\n",
       "SERVICOS              object\n",
       "G06A                 float64\n",
       "G06B                 float64\n",
       "G12A                 float64\n",
       "G12B                 float64\n",
       "POP_TOT                int64\n",
       "POP_URB                int64\n",
       "AG001                float64\n",
       "AG007                float64\n",
       "AG015                float64\n",
       "AG018                float64\n",
       "AG019                float64\n",
       "ES001                float64\n",
       "ES005                float64\n",
       "ES006                float64\n",
       "ES012                float64\n",
       "ES013                float64\n",
       "ES014                float64\n",
       "ES015                float64"
      ]
     },
     "execution_count": 18,
     "metadata": {},
     "output_type": "execute_result"
    }
   ],
   "source": [
    "dt_mdr_snis.dtypes.to_frame()"
   ]
  },
  {
   "cell_type": "code",
   "execution_count": 19,
   "metadata": {},
   "outputs": [
    {
     "data": {
      "text/html": [
       "<div>\n",
       "<style scoped>\n",
       "    .dataframe tbody tr th:only-of-type {\n",
       "        vertical-align: middle;\n",
       "    }\n",
       "\n",
       "    .dataframe tbody tr th {\n",
       "        vertical-align: top;\n",
       "    }\n",
       "\n",
       "    .dataframe thead th {\n",
       "        text-align: right;\n",
       "    }\n",
       "</style>\n",
       "<table border=\"1\" class=\"dataframe\">\n",
       "  <thead>\n",
       "    <tr style=\"text-align: right;\">\n",
       "      <th></th>\n",
       "      <th>0</th>\n",
       "    </tr>\n",
       "  </thead>\n",
       "  <tbody>\n",
       "    <tr>\n",
       "      <th>ANO</th>\n",
       "      <td>int64</td>\n",
       "    </tr>\n",
       "    <tr>\n",
       "      <th>Código da Grande Região</th>\n",
       "      <td>int64</td>\n",
       "    </tr>\n",
       "    <tr>\n",
       "      <th>REGIAO</th>\n",
       "      <td>object</td>\n",
       "    </tr>\n",
       "    <tr>\n",
       "      <th>COD_UF</th>\n",
       "      <td>int64</td>\n",
       "    </tr>\n",
       "    <tr>\n",
       "      <th>SIGLA_UF</th>\n",
       "      <td>object</td>\n",
       "    </tr>\n",
       "    <tr>\n",
       "      <th>Nome da Unidade da Federação</th>\n",
       "      <td>object</td>\n",
       "    </tr>\n",
       "    <tr>\n",
       "      <th>COD_MUNICIPIO</th>\n",
       "      <td>int64</td>\n",
       "    </tr>\n",
       "    <tr>\n",
       "      <th>NOME_MUNICIPIO</th>\n",
       "      <td>object</td>\n",
       "    </tr>\n",
       "    <tr>\n",
       "      <th>Região Metropolitana</th>\n",
       "      <td>object</td>\n",
       "    </tr>\n",
       "    <tr>\n",
       "      <th>Código da Mesorregião</th>\n",
       "      <td>int64</td>\n",
       "    </tr>\n",
       "    <tr>\n",
       "      <th>Nome da Mesorregião</th>\n",
       "      <td>object</td>\n",
       "    </tr>\n",
       "    <tr>\n",
       "      <th>Código da Microrregião</th>\n",
       "      <td>int64</td>\n",
       "    </tr>\n",
       "    <tr>\n",
       "      <th>Nome da Microrregião</th>\n",
       "      <td>object</td>\n",
       "    </tr>\n",
       "    <tr>\n",
       "      <th>Código da Região Geográfica Imediata</th>\n",
       "      <td>int64</td>\n",
       "    </tr>\n",
       "    <tr>\n",
       "      <th>Nome da Região Geográfica Imediata</th>\n",
       "      <td>object</td>\n",
       "    </tr>\n",
       "    <tr>\n",
       "      <th>Município da Região Geográfica Imediata</th>\n",
       "      <td>object</td>\n",
       "    </tr>\n",
       "    <tr>\n",
       "      <th>Código da Região Geográfica Intermediária</th>\n",
       "      <td>int64</td>\n",
       "    </tr>\n",
       "    <tr>\n",
       "      <th>Nome da Região Geográfica Intermediária</th>\n",
       "      <td>object</td>\n",
       "    </tr>\n",
       "    <tr>\n",
       "      <th>Município da Região Geográfica Intermediária</th>\n",
       "      <td>object</td>\n",
       "    </tr>\n",
       "    <tr>\n",
       "      <th>Código Concentração Urbana</th>\n",
       "      <td>float64</td>\n",
       "    </tr>\n",
       "    <tr>\n",
       "      <th>Nome Concentração Urbana</th>\n",
       "      <td>object</td>\n",
       "    </tr>\n",
       "    <tr>\n",
       "      <th>Tipo Concentração Urbana</th>\n",
       "      <td>object</td>\n",
       "    </tr>\n",
       "    <tr>\n",
       "      <th>Código Arranjo Populacional</th>\n",
       "      <td>float64</td>\n",
       "    </tr>\n",
       "    <tr>\n",
       "      <th>Nome Arranjo Populacional</th>\n",
       "      <td>object</td>\n",
       "    </tr>\n",
       "    <tr>\n",
       "      <th>Hierarquia Urbana</th>\n",
       "      <td>object</td>\n",
       "    </tr>\n",
       "    <tr>\n",
       "      <th>Hierarquia Urbana (principais categorias)</th>\n",
       "      <td>object</td>\n",
       "    </tr>\n",
       "    <tr>\n",
       "      <th>Código da Região Rural</th>\n",
       "      <td>int64</td>\n",
       "    </tr>\n",
       "    <tr>\n",
       "      <th>Nome da Região Rural</th>\n",
       "      <td>object</td>\n",
       "    </tr>\n",
       "    <tr>\n",
       "      <th>Região rural (segundo classificação do núcleo)</th>\n",
       "      <td>object</td>\n",
       "    </tr>\n",
       "    <tr>\n",
       "      <th>Amazônia Legal</th>\n",
       "      <td>object</td>\n",
       "    </tr>\n",
       "    <tr>\n",
       "      <th>Semiárido</th>\n",
       "      <td>object</td>\n",
       "    </tr>\n",
       "    <tr>\n",
       "      <th>Cidade-Região de São Paulo</th>\n",
       "      <td>object</td>\n",
       "    </tr>\n",
       "    <tr>\n",
       "      <th>Valor adicionado bruto da Agropecuária, a preços correntes(R$ 1.000)</th>\n",
       "      <td>object</td>\n",
       "    </tr>\n",
       "    <tr>\n",
       "      <th>Valor adicionado bruto da Indústria,a preços correntes(R$ 1.000)</th>\n",
       "      <td>object</td>\n",
       "    </tr>\n",
       "    <tr>\n",
       "      <th>Valor adicionado bruto dos Serviços,a preços correntes - exceto Administração, defesa, educação e saúde públicas e seguridade social(R$ 1.000)</th>\n",
       "      <td>int64</td>\n",
       "    </tr>\n",
       "    <tr>\n",
       "      <th>Valor adicionado bruto da Administração, defesa, educação e saúde públicas e seguridade social, a preços correntes(R$ 1.000)</th>\n",
       "      <td>int64</td>\n",
       "    </tr>\n",
       "    <tr>\n",
       "      <th>Valor adicionado bruto total, a preços correntes(R$ 1.000)</th>\n",
       "      <td>object</td>\n",
       "    </tr>\n",
       "    <tr>\n",
       "      <th>Impostos, líquidos de subsídios, sobre produtos, a preços correntes(R$ 1.000)</th>\n",
       "      <td>object</td>\n",
       "    </tr>\n",
       "    <tr>\n",
       "      <th>PIB</th>\n",
       "      <td>object</td>\n",
       "    </tr>\n",
       "    <tr>\n",
       "      <th>PIB_PER_CAPITA</th>\n",
       "      <td>object</td>\n",
       "    </tr>\n",
       "    <tr>\n",
       "      <th>Atividade com maior valor adicionado bruto</th>\n",
       "      <td>object</td>\n",
       "    </tr>\n",
       "    <tr>\n",
       "      <th>Atividade com segundo maior valor adicionado bruto</th>\n",
       "      <td>object</td>\n",
       "    </tr>\n",
       "    <tr>\n",
       "      <th>Atividade com terceiro maior valor adicionado bruto</th>\n",
       "      <td>object</td>\n",
       "    </tr>\n",
       "  </tbody>\n",
       "</table>\n",
       "</div>"
      ],
      "text/plain": [
       "                                                          0\n",
       "ANO                                                   int64\n",
       "Código da Grande Região                               int64\n",
       "REGIAO                                               object\n",
       "COD_UF                                                int64\n",
       "SIGLA_UF                                             object\n",
       "Nome da Unidade da Federação                         object\n",
       "COD_MUNICIPIO                                         int64\n",
       "NOME_MUNICIPIO                                       object\n",
       "Região Metropolitana                                 object\n",
       "Código da Mesorregião                                 int64\n",
       "Nome da Mesorregião                                  object\n",
       "Código da Microrregião                                int64\n",
       "Nome da Microrregião                                 object\n",
       "Código da Região Geográfica Imediata                  int64\n",
       "Nome da Região Geográfica Imediata                   object\n",
       "Município da Região Geográfica Imediata              object\n",
       "Código da Região Geográfica Intermediária             int64\n",
       "Nome da Região Geográfica Intermediária              object\n",
       "Município da Região Geográfica Intermediária         object\n",
       "Código Concentração Urbana                          float64\n",
       "Nome Concentração Urbana                             object\n",
       "Tipo Concentração Urbana                             object\n",
       "Código Arranjo Populacional                         float64\n",
       "Nome Arranjo Populacional                            object\n",
       "Hierarquia Urbana                                    object\n",
       "Hierarquia Urbana (principais categorias)            object\n",
       "Código da Região Rural                                int64\n",
       "Nome da Região Rural                                 object\n",
       "Região rural (segundo classificação do núcleo)       object\n",
       "Amazônia Legal                                       object\n",
       "Semiárido                                            object\n",
       "Cidade-Região de São Paulo                           object\n",
       "Valor adicionado bruto da Agropecuária, a preço...   object\n",
       "Valor adicionado bruto da Indústria,a preços co...   object\n",
       "Valor adicionado bruto dos Serviços,a preços co...    int64\n",
       "Valor adicionado bruto da Administração, defesa...    int64\n",
       "Valor adicionado bruto total, a preços corrente...   object\n",
       "Impostos, líquidos de subsídios, sobre produtos...   object\n",
       "PIB                                                  object\n",
       "PIB_PER_CAPITA                                       object\n",
       "Atividade com maior valor adicionado bruto           object\n",
       "Atividade com segundo maior valor adicionado bruto   object\n",
       "Atividade com terceiro maior valor adicionado b...   object"
      ]
     },
     "execution_count": 19,
     "metadata": {},
     "output_type": "execute_result"
    }
   ],
   "source": [
    "dt_ibge_pib.dtypes.to_frame()"
   ]
  },
  {
   "cell_type": "markdown",
   "metadata": {},
   "source": [
    "### Verificando a quantidade de campos nulos (mostrando apenas quando for > 0"
   ]
  },
  {
   "cell_type": "code",
   "execution_count": 21,
   "metadata": {},
   "outputs": [
    {
     "name": "stdout",
     "output_type": "stream",
     "text": [
      "PRESTADORES     335\n",
      "SERVICOS        333\n",
      "G06A            434\n",
      "G06B           3051\n",
      "G12A            434\n",
      "G12B           3051\n",
      "AG001           434\n",
      "AG007           434\n",
      "AG015           434\n",
      "AG018           434\n",
      "AG019           434\n",
      "ES001          3052\n",
      "ES005          3036\n",
      "ES006          3035\n",
      "ES012          3051\n",
      "ES013          3051\n",
      "ES014          3051\n",
      "ES015          3051\n",
      "dtype: int64\n"
     ]
    }
   ],
   "source": [
    "nullseries = dt_mdr_snis.isnull().sum()\n",
    "print(nullseries[nullseries > 0])"
   ]
  },
  {
   "cell_type": "code",
   "execution_count": 22,
   "metadata": {},
   "outputs": [
    {
     "name": "stdout",
     "output_type": "stream",
     "text": [
      "Região Metropolitana           4181\n",
      "Código Concentração Urbana     4910\n",
      "Nome Concentração Urbana       4910\n",
      "Tipo Concentração Urbana       4910\n",
      "Código Arranjo Populacional    4614\n",
      "Nome Arranjo Populacional      4614\n",
      "dtype: int64\n"
     ]
    }
   ],
   "source": [
    "nullseries = dt_ibge_pib.isnull().sum()\n",
    "print(nullseries[nullseries > 0])"
   ]
  },
  {
   "cell_type": "markdown",
   "metadata": {},
   "source": [
    "## Tratamento dos dados: seleção de atributos"
   ]
  },
  {
   "cell_type": "markdown",
   "metadata": {},
   "source": [
    "### Seleciona atributos de dt_mdr_snis"
   ]
  },
  {
   "cell_type": "code",
   "execution_count": 23,
   "metadata": {},
   "outputs": [],
   "source": [
    "#Selecinar todos os atributos que iniciam com caracteres \"AG0\" (indicadores de água)\n",
    "atributos_dt_mdr_snis_ag = dt_mdr_snis.columns[[s.startswith(\"AG0\") for s in dt_mdr_snis.columns]]\n",
    "\n",
    "#Selecinar todos os atributos que iniciam com caracteres \"ES0\" (indicadores de esgoto)\n",
    "atributos_dt_mdr_snis_es = dt_mdr_snis.columns[[s.startswith(\"ES0\") for s in dt_mdr_snis.columns]]\n",
    "\n",
    "#Seleciona explicitamente atributos de interesse para a análise\n",
    "atributos_dt_mdr_snis = ['CODIGO_DO_MUNICIPIO', 'MUNICIPIO', 'ESTADO', 'ANO_DE_REFERENCIA','POP_TOT']\n",
    "\n",
    "#Cria o conjunto final de atributos a serem utilizados\n",
    "atributos_dt_mdr_snis.extend(atributos_dt_mdr_snis_ag)\n",
    "atributos_dt_mdr_snis.extend(atributos_dt_mdr_snis_es)\n",
    "dt_mdr_snis = dt_mdr_snis[atributos_dt_mdr_snis]"
   ]
  },
  {
   "cell_type": "markdown",
   "metadata": {},
   "source": [
    "### Seleciona atributos de dt_ibge_pib"
   ]
  },
  {
   "cell_type": "code",
   "execution_count": 24,
   "metadata": {},
   "outputs": [],
   "source": [
    "dt_ibge_pib = dt_ibge_pib[['ANO', 'COD_UF', 'COD_MUNICIPIO', 'SIGLA_UF', 'REGIAO', 'NOME_MUNICIPIO', 'PIB','PIB_PER_CAPITA']]"
   ]
  },
  {
   "cell_type": "markdown",
   "metadata": {},
   "source": [
    "## Tratamento dos dados: limpeza"
   ]
  },
  {
   "cell_type": "markdown",
   "metadata": {},
   "source": [
    "### Limpa dt_mdr_snis"
   ]
  },
  {
   "cell_type": "code",
   "execution_count": 25,
   "metadata": {},
   "outputs": [],
   "source": [
    "#Considera os valors NaN dos campos abaixo como zero:\n",
    "dt_mdr_snis[atributos_dt_mdr_snis_ag] = dt_mdr_snis[atributos_dt_mdr_snis_ag].fillna(value=0)\n",
    "dt_mdr_snis[atributos_dt_mdr_snis_es] = dt_mdr_snis[atributos_dt_mdr_snis_es].fillna(value=0)"
   ]
  },
  {
   "cell_type": "code",
   "execution_count": 26,
   "metadata": {},
   "outputs": [
    {
     "data": {
      "text/plain": [
       "(5570, 17)"
      ]
     },
     "execution_count": 26,
     "metadata": {},
     "output_type": "execute_result"
    }
   ],
   "source": [
    "dt_mdr_snis.shape"
   ]
  },
  {
   "cell_type": "code",
   "execution_count": 27,
   "metadata": {},
   "outputs": [],
   "source": [
    "#Após consider alguns campos nulos como zero nos passos acima, apaga os registros com \n",
    "#atributos nulos que sobraram\n",
    "dt_mdr_snis.dropna(inplace=True)"
   ]
  },
  {
   "cell_type": "code",
   "execution_count": 28,
   "metadata": {},
   "outputs": [
    {
     "data": {
      "text/plain": [
       "(5570, 17)"
      ]
     },
     "execution_count": 28,
     "metadata": {},
     "output_type": "execute_result"
    }
   ],
   "source": [
    "dt_mdr_snis.shape"
   ]
  },
  {
   "cell_type": "markdown",
   "metadata": {},
   "source": [
    "## Tratamento dos dados: enriquecimento dos dados"
   ]
  },
  {
   "cell_type": "markdown",
   "metadata": {},
   "source": [
    "### Enriquecimento de dt_ibge_pib"
   ]
  },
  {
   "cell_type": "code",
   "execution_count": 29,
   "metadata": {},
   "outputs": [],
   "source": [
    "dt_ibge_pib['COD_MUNICIPIO'] = dt_ibge_pib.apply(lambda row: padroniza_cod_munic_ibge(row['COD_MUNICIPIO']), axis=1)"
   ]
  },
  {
   "cell_type": "code",
   "execution_count": 30,
   "metadata": {},
   "outputs": [],
   "source": [
    "#Substitui o seperador de casas decimais de \",\"  para \".\"\n",
    "dt_ibge_pib['PIB'] = dt_ibge_pib.apply(lambda row: row['PIB'].replace(\",\", \".\"), axis=1).astype(float)\n",
    "dt_ibge_pib['PIB_PER_CAPITA'] = dt_ibge_pib.apply(lambda row: row['PIB_PER_CAPITA'].replace(\",\", \".\"), axis=1).astype(float)"
   ]
  },
  {
   "cell_type": "markdown",
   "metadata": {},
   "source": [
    "### Enriquecimento de dt_mdr_snis"
   ]
  },
  {
   "cell_type": "code",
   "execution_count": 31,
   "metadata": {},
   "outputs": [],
   "source": [
    "dt_mdr_snis['CODIGO_DO_MUNICIPIO'] = dt_mdr_snis.apply(lambda row: padroniza_cod_munic_ibge(row['CODIGO_DO_MUNICIPIO']), axis=1)\n",
    "dt_mdr_snis['CODIGO_DO_MUNICIPIO'] = dt_mdr_snis['CODIGO_DO_MUNICIPIO'].astype('object')"
   ]
  },
  {
   "cell_type": "code",
   "execution_count": 32,
   "metadata": {},
   "outputs": [],
   "source": [
    "#Calcula o percentual da população do município com acesso aos serviços de abastecimento de \n",
    "#água e coleta de esgoto\n",
    "dt_mdr_snis['PC_POP_AGUA'] = dt_mdr_snis.apply(lambda row: calc_percentual_com_valor_maximo(row['AG001'], row['POP_TOT']), axis=1)\n",
    "dt_mdr_snis['PC_POP_ESGOTO'] = dt_mdr_snis.apply(lambda row: calc_percentual_com_valor_maximo(row['ES001'], row['POP_TOT']), axis=1)\n",
    "\n",
    "#Calcula o número de habitantes do município sem acesso aos aos serviços de abastecimento de \n",
    "#água e coleta de esgoto\n",
    "dt_mdr_snis['POP_SEM_ESGOTO'] = dt_mdr_snis.apply(lambda row: row['POP_TOT'] - row['ES001'], axis=1)\n",
    "dt_mdr_snis['POP_SEM_AGUA'] = dt_mdr_snis.apply(lambda row: row['POP_TOT'] - row['AG001'], axis=1)\n",
    "\n",
    "#Calcula o volume de água tratada disponivel\n",
    "dt_mdr_snis['VOL_AGUA_TRATADA_DISP'] = dt_mdr_snis.apply(lambda row: calc_VOL_AGUA_TRATADA_DISP(row['AG007'], row['AG015'], row['AG018'], row['AG019']), axis=1)\n",
    "\n",
    "#Calcula o volume de água tratada disponível per capita\n",
    "dt_mdr_snis['VOL_AGUA_TRATADA_DISP_PER_CAPITA'] = dt_mdr_snis.apply(lambda row: calc_VOL_AGUA_TRATADA_DISP_PER_CAPITA(row['AG007'], row['AG015'], row['AG018'], row['AG019'], row['POP_TOT']), axis=1)\n",
    "\n",
    "#Calcula o volume de esgoto coletado per capita\n",
    "dt_mdr_snis['VOL_ESGOTO_COLETADO_PER_CAPITA'] = dt_mdr_snis.apply(lambda row: calc_VOL_ESGOTO_COLETADO_PER_CAPITA(row['ES005'],row['POP_TOT']), axis=1)\n"
   ]
  },
  {
   "cell_type": "markdown",
   "metadata": {},
   "source": [
    "### Enriquecimento de mdr_snis_x_dt_ibge_pib"
   ]
  },
  {
   "cell_type": "code",
   "execution_count": 33,
   "metadata": {},
   "outputs": [],
   "source": [
    "#Executa um merge entre as tabelas dt_mdr_snis e dt_ibge_pib\n",
    "mdr_snis_x_dt_ibge_pib = pd.merge(left=dt_mdr_snis, right=dt_ibge_pib, left_on='CODIGO_DO_MUNICIPIO', how='left', right_on='COD_MUNICIPIO')"
   ]
  },
  {
   "cell_type": "markdown",
   "metadata": {},
   "source": [
    "### Tratamento dos dados: análise e remoção de outliers"
   ]
  },
  {
   "cell_type": "code",
   "execution_count": 34,
   "metadata": {},
   "outputs": [],
   "source": [
    "#Desse ponto em diante do scrip toda a análise será feita a partir desse dataframe data\n",
    "data = mdr_snis_x_dt_ibge_pib.copy()"
   ]
  },
  {
   "cell_type": "code",
   "execution_count": 35,
   "metadata": {},
   "outputs": [
    {
     "data": {
      "image/png": "[encoded data removed]",
      "text/plain": [
       "<Figure size 432x288 with 1 Axes>"
      ]
     },
     "metadata": {},
     "output_type": "display_data"
    },
    {
     "data": {
      "image/png": "[encoded data removed]",
      "text/plain": [
       "<Figure size 432x288 with 1 Axes>"
      ]
     },
     "metadata": {},
     "output_type": "display_data"
    },
    {
     "data": {
      "image/png": "[encoded data removed]",
      "text/plain": [
       "<Figure size 432x288 with 1 Axes>"
      ]
     },
     "metadata": {},
     "output_type": "display_data"
    },
    {
     "data": {
      "image/png": "[encoded data removed]",
      "text/plain": [
       "<Figure size 432x288 with 1 Axes>"
      ]
     },
     "metadata": {},
     "output_type": "display_data"
    },
    {
     "data": {
      "image/png": "[encoded data removed]",
      "text/plain": [
       "<Figure size 432x288 with 1 Axes>"
      ]
     },
     "metadata": {},
     "output_type": "display_data"
    },
    {
     "data": {
      "image/png": "[encoded data removed]",
      "text/plain": [
       "<Figure size 432x288 with 1 Axes>"
      ]
     },
     "metadata": {},
     "output_type": "display_data"
    }
   ],
   "source": [
    "#Verificando visulmente a existência de outliers com boxplot\n",
    "attributes = ['PIB_PER_CAPITA','VOL_AGUA_TRATADA_DISP_PER_CAPITA','VOL_ESGOTO_COLETADO_PER_CAPITA','PC_POP_AGUA', 'PC_POP_ESGOTO','POP_TOT']\n",
    "for a in attributes:\n",
    "    ax = sns.boxplot(x=data[a])\n",
    "    plt.show()"
   ]
  },
  {
   "cell_type": "markdown",
   "metadata": {},
   "source": [
    "### OBSERVAÇÕES:\n",
    "   Nota-se pelos boxplot acima que POT_TOT e VOL_ESGOTO_COLETADO_PER_CAPITA necessitariam de algum tratamento de outliers. Para não deixar de fora da análise as grandes metrópoles brasileiras, irei remover outliers apenas do atributo VOL_ESGOTO_COLETADO_PER_CAPITA.<br> Considerei como outliers valores (padronizado Z) de VOL_ESGOTO_COLETADO_PER_CAPITA que fossem maiores que 3 (isso deve garantir que 99% da amostra seja preservada).\n"
   ]
  },
  {
   "cell_type": "code",
   "execution_count": 36,
   "metadata": {},
   "outputs": [],
   "source": [
    "#O meu limite em valor padronizado Z a partir do qual considerarei um valor como outlier\n",
    "z_corte = 3"
   ]
  },
  {
   "cell_type": "code",
   "execution_count": 37,
   "metadata": {},
   "outputs": [
    {
     "data": {
      "text/html": [
       "<div>\n",
       "<style scoped>\n",
       "    .dataframe tbody tr th:only-of-type {\n",
       "        vertical-align: middle;\n",
       "    }\n",
       "\n",
       "    .dataframe tbody tr th {\n",
       "        vertical-align: top;\n",
       "    }\n",
       "\n",
       "    .dataframe thead th {\n",
       "        text-align: right;\n",
       "    }\n",
       "</style>\n",
       "<table border=\"1\" class=\"dataframe\">\n",
       "  <thead>\n",
       "    <tr style=\"text-align: right;\">\n",
       "      <th></th>\n",
       "      <th>CODIGO_DO_MUNICIPIO</th>\n",
       "      <th>MUNICIPIO</th>\n",
       "      <th>ESTADO</th>\n",
       "      <th>ANO_DE_REFERENCIA</th>\n",
       "      <th>POP_TOT</th>\n",
       "      <th>AG001</th>\n",
       "      <th>AG007</th>\n",
       "      <th>AG015</th>\n",
       "      <th>AG018</th>\n",
       "      <th>AG019</th>\n",
       "      <th>ES001</th>\n",
       "      <th>ES005</th>\n",
       "      <th>ES006</th>\n",
       "      <th>ES012</th>\n",
       "      <th>ES013</th>\n",
       "      <th>ES014</th>\n",
       "      <th>ES015</th>\n",
       "      <th>PC_POP_AGUA</th>\n",
       "      <th>PC_POP_ESGOTO</th>\n",
       "      <th>POP_SEM_ESGOTO</th>\n",
       "      <th>POP_SEM_AGUA</th>\n",
       "      <th>VOL_AGUA_TRATADA_DISP</th>\n",
       "      <th>VOL_AGUA_TRATADA_DISP_PER_CAPITA</th>\n",
       "      <th>VOL_ESGOTO_COLETADO_PER_CAPITA</th>\n",
       "      <th>ANO</th>\n",
       "      <th>COD_UF</th>\n",
       "      <th>COD_MUNICIPIO</th>\n",
       "      <th>SIGLA_UF</th>\n",
       "      <th>REGIAO</th>\n",
       "      <th>NOME_MUNICIPIO</th>\n",
       "      <th>PIB</th>\n",
       "      <th>PIB_PER_CAPITA</th>\n",
       "    </tr>\n",
       "  </thead>\n",
       "  <tbody>\n",
       "    <tr>\n",
       "      <th>1691</th>\n",
       "      <td>313055</td>\n",
       "      <td>Imbé de Minas</td>\n",
       "      <td>MG</td>\n",
       "      <td>2018</td>\n",
       "      <td>6865</td>\n",
       "      <td>1,972.00</td>\n",
       "      <td>127.86</td>\n",
       "      <td>0.00</td>\n",
       "      <td>0.00</td>\n",
       "      <td>0.00</td>\n",
       "      <td>0.00</td>\n",
       "      <td>174,835.00</td>\n",
       "      <td>0.00</td>\n",
       "      <td>0.00</td>\n",
       "      <td>0.00</td>\n",
       "      <td>0.00</td>\n",
       "      <td>0.00</td>\n",
       "      <td>28.73</td>\n",
       "      <td>0.00</td>\n",
       "      <td>6,865.00</td>\n",
       "      <td>4,893.00</td>\n",
       "      <td>127</td>\n",
       "      <td>18.50</td>\n",
       "      <td>25,467.59</td>\n",
       "      <td>2017</td>\n",
       "      <td>31</td>\n",
       "      <td>313055</td>\n",
       "      <td>MG</td>\n",
       "      <td>Sudeste</td>\n",
       "      <td>Imbé de Minas</td>\n",
       "      <td>60,418.00</td>\n",
       "      <td>8,757.48</td>\n",
       "    </tr>\n",
       "  </tbody>\n",
       "</table>\n",
       "</div>"
      ],
      "text/plain": [
       "     CODIGO_DO_MUNICIPIO      MUNICIPIO ESTADO  ANO_DE_REFERENCIA  POP_TOT  \\\n",
       "1691              313055  Imbé de Minas     MG               2018     6865   \n",
       "\n",
       "        AG001  AG007  AG015  AG018  AG019  ES001      ES005  ES006  ES012  \\\n",
       "1691 1,972.00 127.86   0.00   0.00   0.00   0.00 174,835.00   0.00   0.00   \n",
       "\n",
       "      ES013  ES014  ES015  PC_POP_AGUA  PC_POP_ESGOTO  POP_SEM_ESGOTO  \\\n",
       "1691   0.00   0.00   0.00        28.73           0.00        6,865.00   \n",
       "\n",
       "      POP_SEM_AGUA  VOL_AGUA_TRATADA_DISP  VOL_AGUA_TRATADA_DISP_PER_CAPITA  \\\n",
       "1691      4,893.00                    127                             18.50   \n",
       "\n",
       "      VOL_ESGOTO_COLETADO_PER_CAPITA   ANO  COD_UF COD_MUNICIPIO SIGLA_UF  \\\n",
       "1691                       25,467.59  2017      31        313055       MG   \n",
       "\n",
       "       REGIAO NOME_MUNICIPIO       PIB  PIB_PER_CAPITA  \n",
       "1691  Sudeste  Imbé de Minas 60,418.00        8,757.48  "
      ]
     },
     "execution_count": 37,
     "metadata": {},
     "output_type": "execute_result"
    }
   ],
   "source": [
    "#Identificando os outliers antes da remoção\n",
    "data_out = data[np.abs((data.VOL_ESGOTO_COLETADO_PER_CAPITA - data.VOL_ESGOTO_COLETADO_PER_CAPITA.mean()) / data.VOL_ESGOTO_COLETADO_PER_CAPITA .std()) > z_corte]\n",
    "data_out.sort_values(by='VOL_ESGOTO_COLETADO_PER_CAPITA', ascending=False).head()"
   ]
  },
  {
   "cell_type": "code",
   "execution_count": 38,
   "metadata": {},
   "outputs": [
    {
     "data": {
      "text/plain": [
       "(5570, 32)"
      ]
     },
     "execution_count": 38,
     "metadata": {},
     "output_type": "execute_result"
    }
   ],
   "source": [
    "data.shape"
   ]
  },
  {
   "cell_type": "code",
   "execution_count": 39,
   "metadata": {},
   "outputs": [],
   "source": [
    "#Removendo os outliers\n",
    "data = data[np.abs((data.VOL_ESGOTO_COLETADO_PER_CAPITA - data.VOL_ESGOTO_COLETADO_PER_CAPITA.mean()) / data.VOL_ESGOTO_COLETADO_PER_CAPITA .std()) <= z_corte].copy()"
   ]
  },
  {
   "cell_type": "code",
   "execution_count": 40,
   "metadata": {},
   "outputs": [
    {
     "data": {
      "text/plain": [
       "(5569, 32)"
      ]
     },
     "execution_count": 40,
     "metadata": {},
     "output_type": "execute_result"
    }
   ],
   "source": [
    "data.shape"
   ]
  },
  {
   "cell_type": "markdown",
   "metadata": {},
   "source": [
    "## Análise e Exploração dos Dados"
   ]
  },
  {
   "cell_type": "code",
   "execution_count": 41,
   "metadata": {},
   "outputs": [],
   "source": [
    "#Escolhendo os atributos que serão usados nas análises\n",
    "atributos_para_analise = ['VOL_AGUA_TRATADA_DISP_PER_CAPITA','VOL_ESGOTO_COLETADO_PER_CAPITA','PC_POP_AGUA', 'PC_POP_ESGOTO']"
   ]
  },
  {
   "cell_type": "code",
   "execution_count": 42,
   "metadata": {},
   "outputs": [],
   "source": [
    "#Dicionário com descrição dos atributos analisados\n",
    "atributos_para_analise_dic = {'VOL_AGUA_TRATADA_DISP_PER_CAPITA': 'Volume de água tratada disponível per capita (m3)',\n",
    "                             'VOL_ESGOTO_COLETADO_PER_CAPITA': 'Volume de esgoto coletado per capita (m3)',\n",
    "                             'PC_POP_AGUA': \"% da pop. com acesso a serviço de abastecimento de água\",\n",
    "                             'PC_POP_ESGOTO': '% da pop. com acesso a serviço de coleta de esgoto'}"
   ]
  },
  {
   "cell_type": "markdown",
   "metadata": {},
   "source": [
    "### Números gerais"
   ]
  },
  {
   "cell_type": "code",
   "execution_count": 43,
   "metadata": {},
   "outputs": [
    {
     "name": "stdout",
     "output_type": "stream",
     "text": [
      "% da população no Brasil com acesso à coleta de esgoto: 52.0%\n"
     ]
    }
   ],
   "source": [
    "# Calculando o percentual da população brasileira com acesso à coleta de esgoto\n",
    "x = round(data['ES001'].sum() / data['POP_TOT'].sum(),2)\n",
    "print(\"% da população no Brasil com acesso à coleta de esgoto: {:.1%}\".format(x))"
   ]
  },
  {
   "cell_type": "code",
   "execution_count": 44,
   "metadata": {},
   "outputs": [
    {
     "name": "stdout",
     "output_type": "stream",
     "text": [
      "% da população no Brasil com acesso ao serviço de água: 81.0%\n"
     ]
    }
   ],
   "source": [
    "# Calculando o percentual da população brasileira com acesso ao serviço de abastecimento \n",
    "#de água\n",
    "x = round(data['AG001'].sum() / data['POP_TOT'].sum(),2)\n",
    "print(\"% da população no Brasil com acesso ao serviço de água: {:.1%}\".format(x))"
   ]
  },
  {
   "cell_type": "markdown",
   "metadata": {},
   "source": [
    "### Diferenças regionais"
   ]
  },
  {
   "cell_type": "markdown",
   "metadata": {},
   "source": [
    "### Diferenças regionais: Número de habitantes"
   ]
  },
  {
   "cell_type": "code",
   "execution_count": 45,
   "metadata": {},
   "outputs": [
    {
     "data": {
      "text/html": [
       "<div>\n",
       "<style scoped>\n",
       "    .dataframe tbody tr th:only-of-type {\n",
       "        vertical-align: middle;\n",
       "    }\n",
       "\n",
       "    .dataframe tbody tr th {\n",
       "        vertical-align: top;\n",
       "    }\n",
       "\n",
       "    .dataframe thead th {\n",
       "        text-align: right;\n",
       "    }\n",
       "</style>\n",
       "<table border=\"1\" class=\"dataframe\">\n",
       "  <thead>\n",
       "    <tr style=\"text-align: right;\">\n",
       "      <th></th>\n",
       "      <th>Número de habitantes por região</th>\n",
       "    </tr>\n",
       "    <tr>\n",
       "      <th>REGIAO</th>\n",
       "      <th></th>\n",
       "    </tr>\n",
       "  </thead>\n",
       "  <tbody>\n",
       "    <tr>\n",
       "      <th>Centro-oeste</th>\n",
       "      <td>16085885</td>\n",
       "    </tr>\n",
       "    <tr>\n",
       "      <th>Nordeste</th>\n",
       "      <td>56760780</td>\n",
       "    </tr>\n",
       "    <tr>\n",
       "      <th>Norte</th>\n",
       "      <td>18182253</td>\n",
       "    </tr>\n",
       "    <tr>\n",
       "      <th>Sudeste</th>\n",
       "      <td>87705081</td>\n",
       "    </tr>\n",
       "    <tr>\n",
       "      <th>Sul</th>\n",
       "      <td>29754036</td>\n",
       "    </tr>\n",
       "  </tbody>\n",
       "</table>\n",
       "</div>"
      ],
      "text/plain": [
       "              Número de habitantes por região\n",
       "REGIAO                                       \n",
       "Centro-oeste                         16085885\n",
       "Nordeste                             56760780\n",
       "Norte                                18182253\n",
       "Sudeste                              87705081\n",
       "Sul                                  29754036"
      ]
     },
     "execution_count": 45,
     "metadata": {},
     "output_type": "execute_result"
    }
   ],
   "source": [
    "#Obtendo a população por região do Brasil\n",
    "tot = data.groupby(['REGIAO'])['POP_TOT'].sum().to_frame(name=\"Número de habitantes por região\")\n",
    "tot"
   ]
  },
  {
   "cell_type": "code",
   "execution_count": 46,
   "metadata": {},
   "outputs": [
    {
     "data": {
      "image/png": "[encoded data removed]",
      "text/plain": [
       "<Figure size 1080x720 with 1 Axes>"
      ]
     },
     "metadata": {},
     "output_type": "display_data"
    }
   ],
   "source": [
    "tot.plot.barh(rot=0, figsize=(15, 10))\n",
    "plt.legend(loc='center left', bbox_to_anchor=(1.0, 0.5))\n",
    "plt.title('Número de habitantes (por região)\\n', color='black', fontsize=20)\n",
    "plt.show()"
   ]
  },
  {
   "cell_type": "markdown",
   "metadata": {},
   "source": [
    "### Diferenças regionais: Porcentagem da população com acesso a coleta de esgoto"
   ]
  },
  {
   "cell_type": "code",
   "execution_count": 47,
   "metadata": {},
   "outputs": [
    {
     "data": {
      "text/html": [
       "<div>\n",
       "<style scoped>\n",
       "    .dataframe tbody tr th:only-of-type {\n",
       "        vertical-align: middle;\n",
       "    }\n",
       "\n",
       "    .dataframe tbody tr th {\n",
       "        vertical-align: top;\n",
       "    }\n",
       "\n",
       "    .dataframe thead th {\n",
       "        text-align: right;\n",
       "    }\n",
       "</style>\n",
       "<table border=\"1\" class=\"dataframe\">\n",
       "  <thead>\n",
       "    <tr style=\"text-align: right;\">\n",
       "      <th></th>\n",
       "      <th>% da pop. com acesso a coleta de esgoto</th>\n",
       "    </tr>\n",
       "    <tr>\n",
       "      <th>REGIAO</th>\n",
       "      <th></th>\n",
       "    </tr>\n",
       "  </thead>\n",
       "  <tbody>\n",
       "    <tr>\n",
       "      <th>Centro-oeste</th>\n",
       "      <td>51.68</td>\n",
       "    </tr>\n",
       "    <tr>\n",
       "      <th>Nordeste</th>\n",
       "      <td>26.88</td>\n",
       "    </tr>\n",
       "    <tr>\n",
       "      <th>Norte</th>\n",
       "      <td>8.93</td>\n",
       "    </tr>\n",
       "    <tr>\n",
       "      <th>Sudeste</th>\n",
       "      <td>78.59</td>\n",
       "    </tr>\n",
       "    <tr>\n",
       "      <th>Sul</th>\n",
       "      <td>44.74</td>\n",
       "    </tr>\n",
       "  </tbody>\n",
       "</table>\n",
       "</div>"
      ],
      "text/plain": [
       "              % da pop. com acesso a coleta de esgoto\n",
       "REGIAO                                               \n",
       "Centro-oeste                                    51.68\n",
       "Nordeste                                        26.88\n",
       "Norte                                            8.93\n",
       "Sudeste                                         78.59\n",
       "Sul                                             44.74"
      ]
     },
     "execution_count": 47,
     "metadata": {},
     "output_type": "execute_result"
    }
   ],
   "source": [
    "#Obtendo o percentual da população com acesso ao serviço de coleta de esgoto \n",
    "#por região do Brasil\n",
    "es = data.groupby(['REGIAO'])['ES001'].sum()\n",
    "tot = data.groupby(['REGIAO'])['POP_TOT'].sum()\n",
    "pes = (es / tot * 100).to_frame(name=\"% da pop. com acesso a coleta de esgoto\")\n",
    "pes"
   ]
  },
  {
   "cell_type": "code",
   "execution_count": 48,
   "metadata": {},
   "outputs": [
    {
     "data": {
      "image/png": "[encoded data removed]",
      "text/plain": [
       "<Figure size 1080x720 with 1 Axes>"
      ]
     },
     "metadata": {},
     "output_type": "display_data"
    }
   ],
   "source": [
    "pes.plot.barh(rot=0, figsize=(15, 10))\n",
    "plt.legend(loc='center left', bbox_to_anchor=(1.0, 0.5))\n",
    "plt.title('% da população com acesso à coletada de esgoto (por região)\\n', color='black', fontsize=20)\n",
    "plt.show()"
   ]
  },
  {
   "cell_type": "markdown",
   "metadata": {},
   "source": [
    "### Diferenças regionais: Porcentagem da população com acesso a serviço de abastecimento de água"
   ]
  },
  {
   "cell_type": "code",
   "execution_count": 49,
   "metadata": {},
   "outputs": [
    {
     "data": {
      "text/html": [
       "<div>\n",
       "<style scoped>\n",
       "    .dataframe tbody tr th:only-of-type {\n",
       "        vertical-align: middle;\n",
       "    }\n",
       "\n",
       "    .dataframe tbody tr th {\n",
       "        vertical-align: top;\n",
       "    }\n",
       "\n",
       "    .dataframe thead th {\n",
       "        text-align: right;\n",
       "    }\n",
       "</style>\n",
       "<table border=\"1\" class=\"dataframe\">\n",
       "  <thead>\n",
       "    <tr style=\"text-align: right;\">\n",
       "      <th></th>\n",
       "      <th>% da pop. com acesso a serviço de abastecimento de água</th>\n",
       "    </tr>\n",
       "    <tr>\n",
       "      <th>REGIAO</th>\n",
       "      <th></th>\n",
       "    </tr>\n",
       "  </thead>\n",
       "  <tbody>\n",
       "    <tr>\n",
       "      <th>Centro-oeste</th>\n",
       "      <td>86.94</td>\n",
       "    </tr>\n",
       "    <tr>\n",
       "      <th>Nordeste</th>\n",
       "      <td>71.23</td>\n",
       "    </tr>\n",
       "    <tr>\n",
       "      <th>Norte</th>\n",
       "      <td>48.55</td>\n",
       "    </tr>\n",
       "    <tr>\n",
       "      <th>Sudeste</th>\n",
       "      <td>90.31</td>\n",
       "    </tr>\n",
       "    <tr>\n",
       "      <th>Sul</th>\n",
       "      <td>89.33</td>\n",
       "    </tr>\n",
       "  </tbody>\n",
       "</table>\n",
       "</div>"
      ],
      "text/plain": [
       "              % da pop. com acesso a serviço de abastecimento de água\n",
       "REGIAO                                                               \n",
       "Centro-oeste                                              86.94      \n",
       "Nordeste                                                  71.23      \n",
       "Norte                                                     48.55      \n",
       "Sudeste                                                   90.31      \n",
       "Sul                                                       89.33      "
      ]
     },
     "execution_count": 49,
     "metadata": {},
     "output_type": "execute_result"
    }
   ],
   "source": [
    "#Obtendo o percentual da população com acesso a serviço de abastecimento de água por \n",
    "# região do Brasil\n",
    "ag = data.groupby(['REGIAO'])['AG001'].sum()\n",
    "tot = data.groupby(['REGIAO'])['POP_TOT'].sum()\n",
    "pag = (ag / tot * 100).to_frame(name=\"% da pop. com acesso a serviço de abastecimento de água\")\n",
    "pag"
   ]
  },
  {
   "cell_type": "code",
   "execution_count": 50,
   "metadata": {},
   "outputs": [
    {
     "data": {
      "image/png": "[encoded data removed]",
      "text/plain": [
       "<Figure size 1080x720 with 1 Axes>"
      ]
     },
     "metadata": {},
     "output_type": "display_data"
    }
   ],
   "source": [
    "pag.plot.barh(rot=0, figsize=(15, 10))\n",
    "plt.legend(loc='center left', bbox_to_anchor=(1.0, 0.5))\n",
    "plt.title('% da população com acesso ao serviço de abastecimento de água (por região)\\n', color='black', fontsize=20)\n",
    "plt.show()"
   ]
  },
  {
   "cell_type": "markdown",
   "metadata": {},
   "source": [
    "### Correlação entre os atributos"
   ]
  },
  {
   "cell_type": "code",
   "execution_count": 51,
   "metadata": {},
   "outputs": [],
   "source": [
    "#Calculando as correlações\n",
    "corr = data[atributos_para_analise].corr()\n",
    "corr = np.round(corr, decimals=2)"
   ]
  },
  {
   "cell_type": "code",
   "execution_count": 52,
   "metadata": {},
   "outputs": [
    {
     "data": {
      "text/html": [
       "<style  type=\"text/css\" >\n",
       "    #T_d4bbf5fe_c795_11ea_acdb_5cc9d36fd2abrow0_col0 {\n",
       "            background-color:  #b40426;\n",
       "            color:  #f1f1f1;\n",
       "        }    #T_d4bbf5fe_c795_11ea_acdb_5cc9d36fd2abrow0_col1 {\n",
       "            background-color:  #4e68d8;\n",
       "            color:  #000000;\n",
       "        }    #T_d4bbf5fe_c795_11ea_acdb_5cc9d36fd2abrow0_col2 {\n",
       "            background-color:  #d2dbe8;\n",
       "            color:  #000000;\n",
       "        }    #T_d4bbf5fe_c795_11ea_acdb_5cc9d36fd2abrow0_col3 {\n",
       "            background-color:  #3b4cc0;\n",
       "            color:  #f1f1f1;\n",
       "        }    #T_d4bbf5fe_c795_11ea_acdb_5cc9d36fd2abrow1_col0 {\n",
       "            background-color:  #3f53c6;\n",
       "            color:  #f1f1f1;\n",
       "        }    #T_d4bbf5fe_c795_11ea_acdb_5cc9d36fd2abrow1_col1 {\n",
       "            background-color:  #b40426;\n",
       "            color:  #f1f1f1;\n",
       "        }    #T_d4bbf5fe_c795_11ea_acdb_5cc9d36fd2abrow1_col2 {\n",
       "            background-color:  #3b4cc0;\n",
       "            color:  #f1f1f1;\n",
       "        }    #T_d4bbf5fe_c795_11ea_acdb_5cc9d36fd2abrow1_col3 {\n",
       "            background-color:  #f4987a;\n",
       "            color:  #000000;\n",
       "        }    #T_d4bbf5fe_c795_11ea_acdb_5cc9d36fd2abrow2_col0 {\n",
       "            background-color:  #cad8ef;\n",
       "            color:  #000000;\n",
       "        }    #T_d4bbf5fe_c795_11ea_acdb_5cc9d36fd2abrow2_col1 {\n",
       "            background-color:  #3b4cc0;\n",
       "            color:  #f1f1f1;\n",
       "        }    #T_d4bbf5fe_c795_11ea_acdb_5cc9d36fd2abrow2_col2 {\n",
       "            background-color:  #b40426;\n",
       "            color:  #f1f1f1;\n",
       "        }    #T_d4bbf5fe_c795_11ea_acdb_5cc9d36fd2abrow2_col3 {\n",
       "            background-color:  #5470de;\n",
       "            color:  #000000;\n",
       "        }    #T_d4bbf5fe_c795_11ea_acdb_5cc9d36fd2abrow3_col0 {\n",
       "            background-color:  #3b4cc0;\n",
       "            color:  #f1f1f1;\n",
       "        }    #T_d4bbf5fe_c795_11ea_acdb_5cc9d36fd2abrow3_col1 {\n",
       "            background-color:  #f39475;\n",
       "            color:  #000000;\n",
       "        }    #T_d4bbf5fe_c795_11ea_acdb_5cc9d36fd2abrow3_col2 {\n",
       "            background-color:  #6282ea;\n",
       "            color:  #000000;\n",
       "        }    #T_d4bbf5fe_c795_11ea_acdb_5cc9d36fd2abrow3_col3 {\n",
       "            background-color:  #b40426;\n",
       "            color:  #f1f1f1;\n",
       "        }</style><table id=\"T_d4bbf5fe_c795_11ea_acdb_5cc9d36fd2ab\" ><thead>    <tr>        <th class=\"blank level0\" ></th>        <th class=\"col_heading level0 col0\" >VOL_AGUA_TRATADA_DISP_PER_CAPITA</th>        <th class=\"col_heading level0 col1\" >VOL_ESGOTO_COLETADO_PER_CAPITA</th>        <th class=\"col_heading level0 col2\" >PC_POP_AGUA</th>        <th class=\"col_heading level0 col3\" >PC_POP_ESGOTO</th>    </tr></thead><tbody>\n",
       "                <tr>\n",
       "                        <th id=\"T_d4bbf5fe_c795_11ea_acdb_5cc9d36fd2ablevel0_row0\" class=\"row_heading level0 row0\" >VOL_AGUA_TRATADA_DISP_PER_CAPITA</th>\n",
       "                        <td id=\"T_d4bbf5fe_c795_11ea_acdb_5cc9d36fd2abrow0_col0\" class=\"data row0 col0\" >1</td>\n",
       "                        <td id=\"T_d4bbf5fe_c795_11ea_acdb_5cc9d36fd2abrow0_col1\" class=\"data row0 col1\" >0.41</td>\n",
       "                        <td id=\"T_d4bbf5fe_c795_11ea_acdb_5cc9d36fd2abrow0_col2\" class=\"data row0 col2\" >0.66</td>\n",
       "                        <td id=\"T_d4bbf5fe_c795_11ea_acdb_5cc9d36fd2abrow0_col3\" class=\"data row0 col3\" >0.4</td>\n",
       "            </tr>\n",
       "            <tr>\n",
       "                        <th id=\"T_d4bbf5fe_c795_11ea_acdb_5cc9d36fd2ablevel0_row1\" class=\"row_heading level0 row1\" >VOL_ESGOTO_COLETADO_PER_CAPITA</th>\n",
       "                        <td id=\"T_d4bbf5fe_c795_11ea_acdb_5cc9d36fd2abrow1_col0\" class=\"data row1 col0\" >0.41</td>\n",
       "                        <td id=\"T_d4bbf5fe_c795_11ea_acdb_5cc9d36fd2abrow1_col1\" class=\"data row1 col1\" >1</td>\n",
       "                        <td id=\"T_d4bbf5fe_c795_11ea_acdb_5cc9d36fd2abrow1_col2\" class=\"data row1 col2\" >0.37</td>\n",
       "                        <td id=\"T_d4bbf5fe_c795_11ea_acdb_5cc9d36fd2abrow1_col3\" class=\"data row1 col3\" >0.85</td>\n",
       "            </tr>\n",
       "            <tr>\n",
       "                        <th id=\"T_d4bbf5fe_c795_11ea_acdb_5cc9d36fd2ablevel0_row2\" class=\"row_heading level0 row2\" >PC_POP_AGUA</th>\n",
       "                        <td id=\"T_d4bbf5fe_c795_11ea_acdb_5cc9d36fd2abrow2_col0\" class=\"data row2 col0\" >0.66</td>\n",
       "                        <td id=\"T_d4bbf5fe_c795_11ea_acdb_5cc9d36fd2abrow2_col1\" class=\"data row2 col1\" >0.37</td>\n",
       "                        <td id=\"T_d4bbf5fe_c795_11ea_acdb_5cc9d36fd2abrow2_col2\" class=\"data row2 col2\" >1</td>\n",
       "                        <td id=\"T_d4bbf5fe_c795_11ea_acdb_5cc9d36fd2abrow2_col3\" class=\"data row2 col3\" >0.45</td>\n",
       "            </tr>\n",
       "            <tr>\n",
       "                        <th id=\"T_d4bbf5fe_c795_11ea_acdb_5cc9d36fd2ablevel0_row3\" class=\"row_heading level0 row3\" >PC_POP_ESGOTO</th>\n",
       "                        <td id=\"T_d4bbf5fe_c795_11ea_acdb_5cc9d36fd2abrow3_col0\" class=\"data row3 col0\" >0.4</td>\n",
       "                        <td id=\"T_d4bbf5fe_c795_11ea_acdb_5cc9d36fd2abrow3_col1\" class=\"data row3 col1\" >0.85</td>\n",
       "                        <td id=\"T_d4bbf5fe_c795_11ea_acdb_5cc9d36fd2abrow3_col2\" class=\"data row3 col2\" >0.45</td>\n",
       "                        <td id=\"T_d4bbf5fe_c795_11ea_acdb_5cc9d36fd2abrow3_col3\" class=\"data row3 col3\" >1</td>\n",
       "            </tr>\n",
       "    </tbody></table>"
      ],
      "text/plain": [
       "<pandas.io.formats.style.Styler at 0x29a126fd668>"
      ]
     },
     "execution_count": 52,
     "metadata": {},
     "output_type": "execute_result"
    }
   ],
   "source": [
    "#Exibindo as correlações com o gradiente de cor alterando de acordo com o índice \n",
    "#de correlação. Escolhemos como parâmetro cmap coolwarm (quente frio).\n",
    "#Quanto menor o índice de correlação mais azul ficará a celula. Quando maior mais vermelho.\n",
    "corr.style.background_gradient(cmap='coolwarm')"
   ]
  },
  {
   "cell_type": "markdown",
   "metadata": {},
   "source": [
    "### OBSERVAÇÕES DA ANÁLISE:\n",
    "Como era de se esperar existe uma forte correlação entre PC_POP_ESGOTO e VOL_ESGOTO_COLETADO_PER_CAPITA. Curiosamente  a correlação entre PC_POP_AGUA e VOL_AGUA_TRATADA_DISP_PER_CAPITA é apenas moderada. Muito interessante a correção entre PC_POP_AGUA e PC_POP_ESGOTO ser apenas moderada."
   ]
  },
  {
   "cell_type": "markdown",
   "metadata": {},
   "source": [
    "### Histogramas"
   ]
  },
  {
   "cell_type": "code",
   "execution_count": 53,
   "metadata": {},
   "outputs": [
    {
     "data": {
      "image/png": "[encoded data removed]",
      "text/plain": [
       "<Figure size 1080x360 with 1 Axes>"
      ]
     },
     "metadata": {},
     "output_type": "display_data"
    },
    {
     "data": {
      "image/png": "[encoded data removed]",
      "text/plain": [
       "<Figure size 1080x360 with 1 Axes>"
      ]
     },
     "metadata": {},
     "output_type": "display_data"
    },
    {
     "data": {
      "image/png": "[encoded data removed]",
      "text/plain": [
       "<Figure size 1080x360 with 1 Axes>"
      ]
     },
     "metadata": {},
     "output_type": "display_data"
    },
    {
     "data": {
      "image/png": "[encoded data removed]",
      "text/plain": [
       "<Figure size 1080x360 with 1 Axes>"
      ]
     },
     "metadata": {},
     "output_type": "display_data"
    }
   ],
   "source": [
    "for i in atributos_para_analise:\n",
    "    plt.figure(figsize=(15, 5))\n",
    "    plt.ion()\n",
    "    plt.title(\"Histograma: \" + atributos_para_analise_dic[i] + \"\\n\")\n",
    "    plt.xlabel(atributos_para_analise_dic[i], fontsize=14)\n",
    "    plt.ylabel(\"Municípios\")\n",
    "    plt.hist(data[i], bins=100)\n",
    "    plt.draw()\n",
    "    plt.pause(0.25)"
   ]
  },
  {
   "cell_type": "markdown",
   "metadata": {},
   "source": [
    "### Estimadores estatísticos considerando todo o Brasil"
   ]
  },
  {
   "cell_type": "code",
   "execution_count": 54,
   "metadata": {},
   "outputs": [
    {
     "data": {
      "text/html": [
       "<div>\n",
       "<style scoped>\n",
       "    .dataframe tbody tr th:only-of-type {\n",
       "        vertical-align: middle;\n",
       "    }\n",
       "\n",
       "    .dataframe tbody tr th {\n",
       "        vertical-align: top;\n",
       "    }\n",
       "\n",
       "    .dataframe thead th {\n",
       "        text-align: right;\n",
       "    }\n",
       "</style>\n",
       "<table border=\"1\" class=\"dataframe\">\n",
       "  <thead>\n",
       "    <tr style=\"text-align: right;\">\n",
       "      <th></th>\n",
       "      <th>VOL_AGUA_TRATADA_DISP_PER_CAPITA</th>\n",
       "      <th>VOL_ESGOTO_COLETADO_PER_CAPITA</th>\n",
       "      <th>PC_POP_AGUA</th>\n",
       "      <th>PC_POP_ESGOTO</th>\n",
       "    </tr>\n",
       "  </thead>\n",
       "  <tbody>\n",
       "    <tr>\n",
       "      <th>mean</th>\n",
       "      <td>49.25</td>\n",
       "      <td>14.33</td>\n",
       "      <td>64.24</td>\n",
       "      <td>25.61</td>\n",
       "    </tr>\n",
       "    <tr>\n",
       "      <th>std</th>\n",
       "      <td>37.29</td>\n",
       "      <td>24.14</td>\n",
       "      <td>30.31</td>\n",
       "      <td>35.27</td>\n",
       "    </tr>\n",
       "    <tr>\n",
       "      <th>std / mean</th>\n",
       "      <td>0.76</td>\n",
       "      <td>1.68</td>\n",
       "      <td>0.47</td>\n",
       "      <td>1.38</td>\n",
       "    </tr>\n",
       "  </tbody>\n",
       "</table>\n",
       "</div>"
      ],
      "text/plain": [
       "            VOL_AGUA_TRATADA_DISP_PER_CAPITA  VOL_ESGOTO_COLETADO_PER_CAPITA  \\\n",
       "mean                                   49.25                           14.33   \n",
       "std                                    37.29                           24.14   \n",
       "std / mean                              0.76                            1.68   \n",
       "\n",
       "            PC_POP_AGUA  PC_POP_ESGOTO  \n",
       "mean              64.24          25.61  \n",
       "std               30.31          35.27  \n",
       "std / mean         0.47           1.38  "
      ]
     },
     "execution_count": 54,
     "metadata": {},
     "output_type": "execute_result"
    }
   ],
   "source": [
    "#Obtem estimadores estatísticos \n",
    "describe_personalizado(data[atributos_para_analise])"
   ]
  },
  {
   "cell_type": "markdown",
   "metadata": {},
   "source": [
    "### Estimadores estatísticos por região"
   ]
  },
  {
   "cell_type": "code",
   "execution_count": 55,
   "metadata": {},
   "outputs": [
    {
     "data": {
      "text/html": [
       "<b>Estimadores estatísticos da região Centro-oeste</b>"
      ],
      "text/plain": [
       "<IPython.core.display.HTML object>"
      ]
     },
     "metadata": {},
     "output_type": "display_data"
    },
    {
     "data": {
      "text/html": [
       "<div>\n",
       "<style scoped>\n",
       "    .dataframe tbody tr th:only-of-type {\n",
       "        vertical-align: middle;\n",
       "    }\n",
       "\n",
       "    .dataframe tbody tr th {\n",
       "        vertical-align: top;\n",
       "    }\n",
       "\n",
       "    .dataframe thead th {\n",
       "        text-align: right;\n",
       "    }\n",
       "</style>\n",
       "<table border=\"1\" class=\"dataframe\">\n",
       "  <thead>\n",
       "    <tr style=\"text-align: right;\">\n",
       "      <th></th>\n",
       "      <th>VOL_AGUA_TRATADA_DISP_PER_CAPITA</th>\n",
       "      <th>VOL_ESGOTO_COLETADO_PER_CAPITA</th>\n",
       "      <th>PC_POP_AGUA</th>\n",
       "      <th>PC_POP_ESGOTO</th>\n",
       "    </tr>\n",
       "  </thead>\n",
       "  <tbody>\n",
       "    <tr>\n",
       "      <th>mean</th>\n",
       "      <td>54.89</td>\n",
       "      <td>8.01</td>\n",
       "      <td>67.27</td>\n",
       "      <td>16.12</td>\n",
       "    </tr>\n",
       "    <tr>\n",
       "      <th>std</th>\n",
       "      <td>39.17</td>\n",
       "      <td>14.67</td>\n",
       "      <td>28.89</td>\n",
       "      <td>26.30</td>\n",
       "    </tr>\n",
       "    <tr>\n",
       "      <th>std / mean</th>\n",
       "      <td>0.71</td>\n",
       "      <td>1.83</td>\n",
       "      <td>0.43</td>\n",
       "      <td>1.63</td>\n",
       "    </tr>\n",
       "  </tbody>\n",
       "</table>\n",
       "</div>"
      ],
      "text/plain": [
       "            VOL_AGUA_TRATADA_DISP_PER_CAPITA  VOL_ESGOTO_COLETADO_PER_CAPITA  \\\n",
       "mean                                   54.89                            8.01   \n",
       "std                                    39.17                           14.67   \n",
       "std / mean                              0.71                            1.83   \n",
       "\n",
       "            PC_POP_AGUA  PC_POP_ESGOTO  \n",
       "mean              67.27          16.12  \n",
       "std               28.89          26.30  \n",
       "std / mean         0.43           1.63  "
      ]
     },
     "metadata": {},
     "output_type": "display_data"
    },
    {
     "data": {
      "text/html": [
       "<b>Estimadores estatísticos da região Nordeste</b>"
      ],
      "text/plain": [
       "<IPython.core.display.HTML object>"
      ]
     },
     "metadata": {},
     "output_type": "display_data"
    },
    {
     "data": {
      "text/html": [
       "<div>\n",
       "<style scoped>\n",
       "    .dataframe tbody tr th:only-of-type {\n",
       "        vertical-align: middle;\n",
       "    }\n",
       "\n",
       "    .dataframe tbody tr th {\n",
       "        vertical-align: top;\n",
       "    }\n",
       "\n",
       "    .dataframe thead th {\n",
       "        text-align: right;\n",
       "    }\n",
       "</style>\n",
       "<table border=\"1\" class=\"dataframe\">\n",
       "  <thead>\n",
       "    <tr style=\"text-align: right;\">\n",
       "      <th></th>\n",
       "      <th>VOL_AGUA_TRATADA_DISP_PER_CAPITA</th>\n",
       "      <th>VOL_ESGOTO_COLETADO_PER_CAPITA</th>\n",
       "      <th>PC_POP_AGUA</th>\n",
       "      <th>PC_POP_ESGOTO</th>\n",
       "    </tr>\n",
       "  </thead>\n",
       "  <tbody>\n",
       "    <tr>\n",
       "      <th>mean</th>\n",
       "      <td>36.28</td>\n",
       "      <td>4.73</td>\n",
       "      <td>56.50</td>\n",
       "      <td>10.18</td>\n",
       "    </tr>\n",
       "    <tr>\n",
       "      <th>std</th>\n",
       "      <td>31.44</td>\n",
       "      <td>13.19</td>\n",
       "      <td>30.92</td>\n",
       "      <td>21.76</td>\n",
       "    </tr>\n",
       "    <tr>\n",
       "      <th>std / mean</th>\n",
       "      <td>0.87</td>\n",
       "      <td>2.79</td>\n",
       "      <td>0.55</td>\n",
       "      <td>2.14</td>\n",
       "    </tr>\n",
       "  </tbody>\n",
       "</table>\n",
       "</div>"
      ],
      "text/plain": [
       "            VOL_AGUA_TRATADA_DISP_PER_CAPITA  VOL_ESGOTO_COLETADO_PER_CAPITA  \\\n",
       "mean                                   36.28                            4.73   \n",
       "std                                    31.44                           13.19   \n",
       "std / mean                              0.87                            2.79   \n",
       "\n",
       "            PC_POP_AGUA  PC_POP_ESGOTO  \n",
       "mean              56.50          10.18  \n",
       "std               30.92          21.76  \n",
       "std / mean         0.55           2.14  "
      ]
     },
     "metadata": {},
     "output_type": "display_data"
    },
    {
     "data": {
      "text/html": [
       "<b>Estimadores estatísticos da região Norte</b>"
      ],
      "text/plain": [
       "<IPython.core.display.HTML object>"
      ]
     },
     "metadata": {},
     "output_type": "display_data"
    },
    {
     "data": {
      "text/html": [
       "<div>\n",
       "<style scoped>\n",
       "    .dataframe tbody tr th:only-of-type {\n",
       "        vertical-align: middle;\n",
       "    }\n",
       "\n",
       "    .dataframe tbody tr th {\n",
       "        vertical-align: top;\n",
       "    }\n",
       "\n",
       "    .dataframe thead th {\n",
       "        text-align: right;\n",
       "    }\n",
       "</style>\n",
       "<table border=\"1\" class=\"dataframe\">\n",
       "  <thead>\n",
       "    <tr style=\"text-align: right;\">\n",
       "      <th></th>\n",
       "      <th>VOL_AGUA_TRATADA_DISP_PER_CAPITA</th>\n",
       "      <th>VOL_ESGOTO_COLETADO_PER_CAPITA</th>\n",
       "      <th>PC_POP_AGUA</th>\n",
       "      <th>PC_POP_ESGOTO</th>\n",
       "    </tr>\n",
       "  </thead>\n",
       "  <tbody>\n",
       "    <tr>\n",
       "      <th>mean</th>\n",
       "      <td>35.58</td>\n",
       "      <td>1.42</td>\n",
       "      <td>40.94</td>\n",
       "      <td>3.04</td>\n",
       "    </tr>\n",
       "    <tr>\n",
       "      <th>std</th>\n",
       "      <td>38.36</td>\n",
       "      <td>5.91</td>\n",
       "      <td>32.45</td>\n",
       "      <td>11.45</td>\n",
       "    </tr>\n",
       "    <tr>\n",
       "      <th>std / mean</th>\n",
       "      <td>1.08</td>\n",
       "      <td>4.17</td>\n",
       "      <td>0.79</td>\n",
       "      <td>3.76</td>\n",
       "    </tr>\n",
       "  </tbody>\n",
       "</table>\n",
       "</div>"
      ],
      "text/plain": [
       "            VOL_AGUA_TRATADA_DISP_PER_CAPITA  VOL_ESGOTO_COLETADO_PER_CAPITA  \\\n",
       "mean                                   35.58                            1.42   \n",
       "std                                    38.36                            5.91   \n",
       "std / mean                              1.08                            4.17   \n",
       "\n",
       "            PC_POP_AGUA  PC_POP_ESGOTO  \n",
       "mean              40.94           3.04  \n",
       "std               32.45          11.45  \n",
       "std / mean         0.79           3.76  "
      ]
     },
     "metadata": {},
     "output_type": "display_data"
    },
    {
     "data": {
      "text/html": [
       "<b>Estimadores estatísticos da região Sudeste</b>"
      ],
      "text/plain": [
       "<IPython.core.display.HTML object>"
      ]
     },
     "metadata": {},
     "output_type": "display_data"
    },
    {
     "data": {
      "text/html": [
       "<div>\n",
       "<style scoped>\n",
       "    .dataframe tbody tr th:only-of-type {\n",
       "        vertical-align: middle;\n",
       "    }\n",
       "\n",
       "    .dataframe tbody tr th {\n",
       "        vertical-align: top;\n",
       "    }\n",
       "\n",
       "    .dataframe thead th {\n",
       "        text-align: right;\n",
       "    }\n",
       "</style>\n",
       "<table border=\"1\" class=\"dataframe\">\n",
       "  <thead>\n",
       "    <tr style=\"text-align: right;\">\n",
       "      <th></th>\n",
       "      <th>VOL_AGUA_TRATADA_DISP_PER_CAPITA</th>\n",
       "      <th>VOL_ESGOTO_COLETADO_PER_CAPITA</th>\n",
       "      <th>PC_POP_AGUA</th>\n",
       "      <th>PC_POP_ESGOTO</th>\n",
       "    </tr>\n",
       "  </thead>\n",
       "  <tbody>\n",
       "    <tr>\n",
       "      <th>mean</th>\n",
       "      <td>62.09</td>\n",
       "      <td>35.04</td>\n",
       "      <td>72.00</td>\n",
       "      <td>58.47</td>\n",
       "    </tr>\n",
       "    <tr>\n",
       "      <th>std</th>\n",
       "      <td>37.66</td>\n",
       "      <td>30.07</td>\n",
       "      <td>25.68</td>\n",
       "      <td>35.98</td>\n",
       "    </tr>\n",
       "    <tr>\n",
       "      <th>std / mean</th>\n",
       "      <td>0.61</td>\n",
       "      <td>0.86</td>\n",
       "      <td>0.36</td>\n",
       "      <td>0.62</td>\n",
       "    </tr>\n",
       "  </tbody>\n",
       "</table>\n",
       "</div>"
      ],
      "text/plain": [
       "            VOL_AGUA_TRATADA_DISP_PER_CAPITA  VOL_ESGOTO_COLETADO_PER_CAPITA  \\\n",
       "mean                                   62.09                           35.04   \n",
       "std                                    37.66                           30.07   \n",
       "std / mean                              0.61                            0.86   \n",
       "\n",
       "            PC_POP_AGUA  PC_POP_ESGOTO  \n",
       "mean              72.00          58.47  \n",
       "std               25.68          35.98  \n",
       "std / mean         0.36           0.62  "
      ]
     },
     "metadata": {},
     "output_type": "display_data"
    },
    {
     "data": {
      "text/html": [
       "<b>Estimadores estatísticos da região Sul</b>"
      ],
      "text/plain": [
       "<IPython.core.display.HTML object>"
      ]
     },
     "metadata": {},
     "output_type": "display_data"
    },
    {
     "data": {
      "text/html": [
       "<div>\n",
       "<style scoped>\n",
       "    .dataframe tbody tr th:only-of-type {\n",
       "        vertical-align: middle;\n",
       "    }\n",
       "\n",
       "    .dataframe tbody tr th {\n",
       "        vertical-align: top;\n",
       "    }\n",
       "\n",
       "    .dataframe thead th {\n",
       "        text-align: right;\n",
       "    }\n",
       "</style>\n",
       "<table border=\"1\" class=\"dataframe\">\n",
       "  <thead>\n",
       "    <tr style=\"text-align: right;\">\n",
       "      <th></th>\n",
       "      <th>VOL_AGUA_TRATADA_DISP_PER_CAPITA</th>\n",
       "      <th>VOL_ESGOTO_COLETADO_PER_CAPITA</th>\n",
       "      <th>PC_POP_AGUA</th>\n",
       "      <th>PC_POP_ESGOTO</th>\n",
       "    </tr>\n",
       "  </thead>\n",
       "  <tbody>\n",
       "    <tr>\n",
       "      <th>mean</th>\n",
       "      <td>53.77</td>\n",
       "      <td>7.17</td>\n",
       "      <td>72.67</td>\n",
       "      <td>15.11</td>\n",
       "    </tr>\n",
       "    <tr>\n",
       "      <th>std</th>\n",
       "      <td>35.87</td>\n",
       "      <td>15.22</td>\n",
       "      <td>27.47</td>\n",
       "      <td>27.69</td>\n",
       "    </tr>\n",
       "    <tr>\n",
       "      <th>std / mean</th>\n",
       "      <td>0.67</td>\n",
       "      <td>2.12</td>\n",
       "      <td>0.38</td>\n",
       "      <td>1.83</td>\n",
       "    </tr>\n",
       "  </tbody>\n",
       "</table>\n",
       "</div>"
      ],
      "text/plain": [
       "            VOL_AGUA_TRATADA_DISP_PER_CAPITA  VOL_ESGOTO_COLETADO_PER_CAPITA  \\\n",
       "mean                                   53.77                            7.17   \n",
       "std                                    35.87                           15.22   \n",
       "std / mean                              0.67                            2.12   \n",
       "\n",
       "            PC_POP_AGUA  PC_POP_ESGOTO  \n",
       "mean              72.67          15.11  \n",
       "std               27.47          27.69  \n",
       "std / mean         0.38           1.83  "
      ]
     },
     "metadata": {},
     "output_type": "display_data"
    }
   ],
   "source": [
    "regioes = data.groupby(['REGIAO']).REGIAO.nunique().index.tolist()\n",
    "for r in regioes:\n",
    "    display(HTML(\"<b>Estimadores estatísticos da região \" + r + \"</b>\"))\n",
    "    display(describe_personalizado(data[atributos_para_analise][data['REGIAO'] == r]))"
   ]
  },
  {
   "cell_type": "code",
   "execution_count": 56,
   "metadata": {},
   "outputs": [],
   "source": [
    "#Obtendo os valores do quartil por POPULACAO_ESTIMADA\n",
    "quartis_pop_estimada = []\n",
    "quartis_pop_estimada.append(math.floor(data['POP_TOT'].min()))\n",
    "quartis_pop_estimada.append(math.floor(data['POP_TOT'].quantile(.25)))\n",
    "quartis_pop_estimada.append(math.floor(data['POP_TOT'].quantile(.50)))\n",
    "quartis_pop_estimada.append(math.floor(data['POP_TOT'].quantile(.75)))\n",
    "quartis_pop_estimada.append(math.floor(data['POP_TOT'].max()))\n",
    "\n",
    "#Obtem valoes dos quartis de PIB_PER_CAPTA dos municípios\n",
    "quartis_pib_per_capita = []\n",
    "quartis_pib_per_capita.append(math.floor(data['PIB_PER_CAPITA'].min()))\n",
    "quartis_pib_per_capita.append(math.floor(data['PIB_PER_CAPITA'].quantile(.25)))\n",
    "quartis_pib_per_capita.append(math.floor(data['PIB_PER_CAPITA'].quantile(.50)))\n",
    "quartis_pib_per_capita.append(math.floor(data['PIB_PER_CAPITA'].quantile(.75)))\n",
    "quartis_pib_per_capita.append(math.floor(data['PIB_PER_CAPITA'].max()))"
   ]
  },
  {
   "cell_type": "code",
   "execution_count": 57,
   "metadata": {},
   "outputs": [],
   "source": [
    "#Obtem estimador estatistico de média por quartil de POP_TOT dos municípios\n",
    "data_desc_pop_estimada = data.groupby(pd.cut(data[\"POP_TOT\"], [quartis_pib_per_capita[0],quartis_pib_per_capita[1],quartis_pib_per_capita[2],quartis_pib_per_capita[3],quartis_pib_per_capita[4]]))[atributos_para_analise].mean()"
   ]
  },
  {
   "cell_type": "code",
   "execution_count": 58,
   "metadata": {},
   "outputs": [],
   "source": [
    "#Obtem estimador estatistico de média por quartil de PIB_PER_CAPTA dos municípios\n",
    "data_desc_pib_per_capta = data.groupby(pd.cut(data[\"PIB_PER_CAPITA\"], [quartis_pib_per_capita[0],quartis_pib_per_capita[1],quartis_pib_per_capita[2],quartis_pib_per_capita[3],quartis_pib_per_capita[4]]))[atributos_para_analise].mean()"
   ]
  },
  {
   "cell_type": "code",
   "execution_count": 59,
   "metadata": {},
   "outputs": [
    {
     "data": {
      "text/html": [
       "<b>Médias por quartil de quantidade de habitantes</b>"
      ],
      "text/plain": [
       "<IPython.core.display.HTML object>"
      ]
     },
     "metadata": {},
     "output_type": "display_data"
    },
    {
     "data": {
      "text/html": [
       "<div>\n",
       "<style scoped>\n",
       "    .dataframe tbody tr th:only-of-type {\n",
       "        vertical-align: middle;\n",
       "    }\n",
       "\n",
       "    .dataframe tbody tr th {\n",
       "        vertical-align: top;\n",
       "    }\n",
       "\n",
       "    .dataframe thead th {\n",
       "        text-align: right;\n",
       "    }\n",
       "</style>\n",
       "<table border=\"1\" class=\"dataframe\">\n",
       "  <thead>\n",
       "    <tr style=\"text-align: right;\">\n",
       "      <th></th>\n",
       "      <th>VOL_AGUA_TRATADA_DISP_PER_CAPITA</th>\n",
       "      <th>VOL_ESGOTO_COLETADO_PER_CAPITA</th>\n",
       "      <th>PC_POP_AGUA</th>\n",
       "      <th>PC_POP_ESGOTO</th>\n",
       "    </tr>\n",
       "    <tr>\n",
       "      <th>POP_TOT</th>\n",
       "      <th></th>\n",
       "      <th></th>\n",
       "      <th></th>\n",
       "      <th></th>\n",
       "    </tr>\n",
       "  </thead>\n",
       "  <tbody>\n",
       "    <tr>\n",
       "      <th>(3285, 9492]</th>\n",
       "      <td>43.83</td>\n",
       "      <td>11.88</td>\n",
       "      <td>60.35</td>\n",
       "      <td>19.95</td>\n",
       "    </tr>\n",
       "    <tr>\n",
       "      <th>(9492, 16599]</th>\n",
       "      <td>43.29</td>\n",
       "      <td>12.44</td>\n",
       "      <td>60.02</td>\n",
       "      <td>22.73</td>\n",
       "    </tr>\n",
       "    <tr>\n",
       "      <th>(16599, 27051]</th>\n",
       "      <td>47.09</td>\n",
       "      <td>13.87</td>\n",
       "      <td>62.79</td>\n",
       "      <td>25.14</td>\n",
       "    </tr>\n",
       "    <tr>\n",
       "      <th>(27051, 344847]</th>\n",
       "      <td>61.69</td>\n",
       "      <td>19.78</td>\n",
       "      <td>73.22</td>\n",
       "      <td>37.65</td>\n",
       "    </tr>\n",
       "  </tbody>\n",
       "</table>\n",
       "</div>"
      ],
      "text/plain": [
       "                 VOL_AGUA_TRATADA_DISP_PER_CAPITA  \\\n",
       "POP_TOT                                             \n",
       "(3285, 9492]                                43.83   \n",
       "(9492, 16599]                               43.29   \n",
       "(16599, 27051]                              47.09   \n",
       "(27051, 344847]                             61.69   \n",
       "\n",
       "                 VOL_ESGOTO_COLETADO_PER_CAPITA  PC_POP_AGUA  PC_POP_ESGOTO  \n",
       "POP_TOT                                                                      \n",
       "(3285, 9492]                              11.88        60.35          19.95  \n",
       "(9492, 16599]                             12.44        60.02          22.73  \n",
       "(16599, 27051]                            13.87        62.79          25.14  \n",
       "(27051, 344847]                           19.78        73.22          37.65  "
      ]
     },
     "execution_count": 59,
     "metadata": {},
     "output_type": "execute_result"
    }
   ],
   "source": [
    "display(HTML(\"<b>Médias por quartil de quantidade de habitantes</b>\"))\n",
    "data_desc_pop_estimada"
   ]
  },
  {
   "cell_type": "code",
   "execution_count": 60,
   "metadata": {},
   "outputs": [
    {
     "data": {
      "text/html": [
       "<b>Médias por quartil de PIB per capita</b>"
      ],
      "text/plain": [
       "<IPython.core.display.HTML object>"
      ]
     },
     "metadata": {},
     "output_type": "display_data"
    },
    {
     "data": {
      "text/html": [
       "<div>\n",
       "<style scoped>\n",
       "    .dataframe tbody tr th:only-of-type {\n",
       "        vertical-align: middle;\n",
       "    }\n",
       "\n",
       "    .dataframe tbody tr th {\n",
       "        vertical-align: top;\n",
       "    }\n",
       "\n",
       "    .dataframe thead th {\n",
       "        text-align: right;\n",
       "    }\n",
       "</style>\n",
       "<table border=\"1\" class=\"dataframe\">\n",
       "  <thead>\n",
       "    <tr style=\"text-align: right;\">\n",
       "      <th></th>\n",
       "      <th>VOL_AGUA_TRATADA_DISP_PER_CAPITA</th>\n",
       "      <th>VOL_ESGOTO_COLETADO_PER_CAPITA</th>\n",
       "      <th>PC_POP_AGUA</th>\n",
       "      <th>PC_POP_ESGOTO</th>\n",
       "    </tr>\n",
       "    <tr>\n",
       "      <th>PIB_PER_CAPITA</th>\n",
       "      <th></th>\n",
       "      <th></th>\n",
       "      <th></th>\n",
       "      <th></th>\n",
       "    </tr>\n",
       "  </thead>\n",
       "  <tbody>\n",
       "    <tr>\n",
       "      <th>(3285, 9492]</th>\n",
       "      <td>28.83</td>\n",
       "      <td>4.62</td>\n",
       "      <td>48.39</td>\n",
       "      <td>9.26</td>\n",
       "    </tr>\n",
       "    <tr>\n",
       "      <th>(9492, 16599]</th>\n",
       "      <td>44.48</td>\n",
       "      <td>13.12</td>\n",
       "      <td>60.81</td>\n",
       "      <td>23.47</td>\n",
       "    </tr>\n",
       "    <tr>\n",
       "      <th>(16599, 27051]</th>\n",
       "      <td>55.38</td>\n",
       "      <td>18.35</td>\n",
       "      <td>69.62</td>\n",
       "      <td>32.31</td>\n",
       "    </tr>\n",
       "    <tr>\n",
       "      <th>(27051, 344847]</th>\n",
       "      <td>68.27</td>\n",
       "      <td>21.20</td>\n",
       "      <td>78.12</td>\n",
       "      <td>37.34</td>\n",
       "    </tr>\n",
       "  </tbody>\n",
       "</table>\n",
       "</div>"
      ],
      "text/plain": [
       "                 VOL_AGUA_TRATADA_DISP_PER_CAPITA  \\\n",
       "PIB_PER_CAPITA                                      \n",
       "(3285, 9492]                                28.83   \n",
       "(9492, 16599]                               44.48   \n",
       "(16599, 27051]                              55.38   \n",
       "(27051, 344847]                             68.27   \n",
       "\n",
       "                 VOL_ESGOTO_COLETADO_PER_CAPITA  PC_POP_AGUA  PC_POP_ESGOTO  \n",
       "PIB_PER_CAPITA                                                               \n",
       "(3285, 9492]                               4.62        48.39           9.26  \n",
       "(9492, 16599]                             13.12        60.81          23.47  \n",
       "(16599, 27051]                            18.35        69.62          32.31  \n",
       "(27051, 344847]                           21.20        78.12          37.34  "
      ]
     },
     "execution_count": 60,
     "metadata": {},
     "output_type": "execute_result"
    }
   ],
   "source": [
    "display(HTML(\"<b>Médias por quartil de PIB per capita</b>\"))\n",
    "data_desc_pib_per_capta"
   ]
  },
  {
   "cell_type": "markdown",
   "metadata": {},
   "source": [
    "## Criação de Modelos de Machine Learning: Criando agrupamentos (clusters)"
   ]
  },
  {
   "cell_type": "markdown",
   "metadata": {},
   "source": [
    "O objetivo do agrupamento é detectar grupos de municípios com características semelhantes do ponto de vista de atratividade a investidores interessados em participar de leilões de concessão de serviços de saneamento básico. Isso pode auxiliar na formação de lotes de municípios em futuros leilões.\n",
    "\n",
    "Note que a escolha dos atributos é algo crítico nesse caso. Precisam ser escolhidos atributos que afetem o interesse dos investidores. Nesse caso a quantidade de pessoas no município sem acesso aos serviços de abastecimento de água e coleta de esgoto representam o mercado potencial para o investidor, e o PIB per capita indica um fator de risco de inadimplência.\n",
    "\n",
    "Devido às grandes diferenças que existem entre as regiões do Brasil a melhor estratégia é se trabalhar por região separadamente."
   ]
  },
  {
   "cell_type": "code",
   "execution_count": 61,
   "metadata": {},
   "outputs": [],
   "source": [
    "#Seleciona os atributos sobre os municípios que serão usados para obter os clusters\n",
    "# POP_SEM_AGUA\n",
    "# POP_SEM_ESGOTO\n",
    "# PIB_PER_CAPITA\n",
    "\n",
    "cluster_attributes = ['POP_SEM_ESGOTO', 'POP_SEM_AGUA', 'PIB_PER_CAPITA']"
   ]
  },
  {
   "cell_type": "markdown",
   "metadata": {},
   "source": [
    "### Aqui é escolhida a região do Brasil que será submetida ao estudo de agrupamentos"
   ]
  },
  {
   "cell_type": "code",
   "execution_count": 62,
   "metadata": {},
   "outputs": [],
   "source": [
    "data = data[data['REGIAO'] == REGIAO_ANALISADA].copy()"
   ]
  },
  {
   "cell_type": "code",
   "execution_count": 63,
   "metadata": {},
   "outputs": [
    {
     "data": {
      "text/plain": [
       "POP_SEM_ESGOTO    0\n",
       "POP_SEM_AGUA      0\n",
       "PIB_PER_CAPITA    0\n",
       "dtype: int64"
      ]
     },
     "execution_count": 63,
     "metadata": {},
     "output_type": "execute_result"
    }
   ],
   "source": [
    "#Verifica se existem valores nulos\n",
    "data[cluster_attributes].isnull().sum()"
   ]
  },
  {
   "cell_type": "code",
   "execution_count": 64,
   "metadata": {},
   "outputs": [],
   "source": [
    "# Como os atributos envolvem escalas de medidas diferentes é necessário normalizar os\n",
    "# atributos antes de se usar técnicas de obtenção de clusters que envolvem cálculo de \n",
    "# distância vetorial. Para normalização optei por converter os valores segundo a fórmula\n",
    "# z = (x - u) / s\n",
    "data_norm = StandardScaler().fit_transform(data[cluster_attributes])"
   ]
  },
  {
   "cell_type": "code",
   "execution_count": 65,
   "metadata": {},
   "outputs": [
    {
     "data": {
      "text/plain": [
       "(1794, 3)"
      ]
     },
     "execution_count": 65,
     "metadata": {},
     "output_type": "execute_result"
    }
   ],
   "source": [
    "data_norm.shape"
   ]
  },
  {
   "cell_type": "markdown",
   "metadata": {},
   "source": [
    "### Criando agrupamentos com algoritmo K-Means"
   ]
  },
  {
   "cell_type": "markdown",
   "metadata": {},
   "source": [
    "**Nota metodológica:** Inertia ou \"within-cluster sum-of-squares\" pode ser interpretada como uma medida que indica o quanto um cluster é internamente coeso. Quanto menor o valor,  mais coeso estão os elementos do cluster. No algoritmo K-Means quanto maior o número de clusters que fornecemos como hiperparâmetro, naturalmente mais coesos ficarão os elementos de cada um dos grupos. Mas se levarmos em conta apenas a medida de coesão chegaremos ao absurdo de concluir que devemos ter tantos grupos quantos os elementos a serem agrupados! Uma técnica para se estimar um número de clusters adequado é ir incrementando gradualmente o número de clusters e medir a inertia. Quando o valor medido de inertia começar a variar pouco em relação ao incremento na quantidade de cluster é sinal que aquele é um valor bom para se escolher como número de clusters. Visualmente esse ponto parece uma guinada na curva o que faz o método receber o nome de \"elbow\" (cotovelo)."
   ]
  },
  {
   "cell_type": "code",
   "execution_count": 66,
   "metadata": {},
   "outputs": [
    {
     "data": {
      "image/png": "[encoded data removed]",
      "text/plain": [
       "<Figure size 432x288 with 1 Axes>"
      ]
     },
     "metadata": {},
     "output_type": "display_data"
    }
   ],
   "source": [
    "#Obtendo o valor ótimo de k (número de clusters) através da medição de inertia.\n",
    "#O valor ótimo é o ponto a partir do qual a redução da medida de inertia torna-se muito pequena em relação\n",
    "#ao aumento de k. Este ponto costuma ser chamado de elbow (cotovelo).\n",
    "\n",
    "ks = range(1, 10)\n",
    "inertias = []\n",
    "for k in ks:\n",
    "    model = KMeans(n_clusters=k, init='k-means++', max_iter=300, n_init=10, random_state=0)\n",
    "    model.fit(data[cluster_attributes])\n",
    "    inertias.append(model.inertia_)\n",
    "    \n",
    "plt.plot(ks, inertias, '-o', color='black')\n",
    "plt.xlabel('Número de clusters, k')\n",
    "plt.ylabel('Inertia')\n",
    "plt.xticks(ks)\n",
    "plt.show()"
   ]
  },
  {
   "cell_type": "code",
   "execution_count": 67,
   "metadata": {},
   "outputs": [],
   "source": [
    "#Criando os agrupamentos através do algoritmo KMeans\n",
    "n_clust = 2\n",
    "kmeans = KMeans(n_clusters=n_clust, init='k-means++', max_iter=300, n_init=10, random_state=0).fit(data_norm)"
   ]
  },
  {
   "cell_type": "markdown",
   "metadata": {},
   "source": [
    "**Nota metodológica:** Como é calculado o silhouette score?\n",
    "\n",
    "Sendo:\n",
    "\n",
    "a = distância média entre os elementos dentro do cluster;  \n",
    "b = distância média entre cada elemento do cluster e o clusters mais próximo\n",
    "\n",
    "silhouette score = (b - a) / max(a, b)\n",
    "\n",
    "O valor de silhouette score varia entre +1 e -1. Sendo +1 o melhor caso e -1 o pior.\n"
   ]
  },
  {
   "cell_type": "code",
   "execution_count": 72,
   "metadata": {},
   "outputs": [],
   "source": [
    "n_clusters_ = len(set(kmeans.labels_))"
   ]
  },
  {
   "cell_type": "code",
   "execution_count": 73,
   "metadata": {},
   "outputs": [
    {
     "name": "stdout",
     "output_type": "stream",
     "text": [
      "Número estimado de clusters: 2\n",
      "Silhouette score: 0.930\n"
     ]
    }
   ],
   "source": [
    "# Silhouette_score varia entre -1 a +1. Quanto mais próximo de +1 melhor.\n",
    "print('Número estimado de clusters: %d' % n_clusters_)\n",
    "print(\"Silhouette score: %0.3f\" % silhouette_score(data_norm, kmeans.labels_))"
   ]
  },
  {
   "cell_type": "code",
   "execution_count": 74,
   "metadata": {},
   "outputs": [],
   "source": [
    "#Obtem uma lista com os centróides dos clusters\n",
    "centroids = kmeans.cluster_centers_"
   ]
  },
  {
   "cell_type": "code",
   "execution_count": 75,
   "metadata": {},
   "outputs": [
    {
     "data": {
      "text/plain": [
       "(2, 3)"
      ]
     },
     "execution_count": 75,
     "metadata": {},
     "output_type": "execute_result"
    }
   ],
   "source": [
    "centroids.shape"
   ]
  },
  {
   "cell_type": "code",
   "execution_count": 76,
   "metadata": {},
   "outputs": [
    {
     "data": {
      "text/html": [
       "<div>\n",
       "<style scoped>\n",
       "    .dataframe tbody tr th:only-of-type {\n",
       "        vertical-align: middle;\n",
       "    }\n",
       "\n",
       "    .dataframe tbody tr th {\n",
       "        vertical-align: top;\n",
       "    }\n",
       "\n",
       "    .dataframe thead th {\n",
       "        text-align: right;\n",
       "    }\n",
       "</style>\n",
       "<table border=\"1\" class=\"dataframe\">\n",
       "  <thead>\n",
       "    <tr style=\"text-align: right;\">\n",
       "      <th></th>\n",
       "      <th>0</th>\n",
       "      <th>1</th>\n",
       "      <th>2</th>\n",
       "    </tr>\n",
       "  </thead>\n",
       "  <tbody>\n",
       "    <tr>\n",
       "      <th>0</th>\n",
       "      <td>-0.06</td>\n",
       "      <td>-0.05</td>\n",
       "      <td>-0.01</td>\n",
       "    </tr>\n",
       "    <tr>\n",
       "      <th>1</th>\n",
       "      <td>11.47</td>\n",
       "      <td>9.21</td>\n",
       "      <td>1.08</td>\n",
       "    </tr>\n",
       "  </tbody>\n",
       "</table>\n",
       "</div>"
      ],
      "text/plain": [
       "      0     1     2\n",
       "0 -0.06 -0.05 -0.01\n",
       "1 11.47  9.21  1.08"
      ]
     },
     "execution_count": 76,
     "metadata": {},
     "output_type": "execute_result"
    }
   ],
   "source": [
    "#Dando uma olhada no conteúdos das lista centroids\n",
    "pd.DataFrame(centroids)"
   ]
  },
  {
   "cell_type": "code",
   "execution_count": 77,
   "metadata": {},
   "outputs": [],
   "source": [
    "#Adicionando uma nova coluna ao dataframe data com a informação do cluster\n",
    "predict=kmeans.predict(data_norm)\n",
    "data['Cluster_KMean'] = pd.Series(predict, index=data.index)"
   ]
  },
  {
   "cell_type": "code",
   "execution_count": 78,
   "metadata": {},
   "outputs": [
    {
     "data": {
      "image/png": "[encoded data removed]",
      "text/plain": [
       "<Figure size 720x360 with 2 Axes>"
      ]
     },
     "metadata": {},
     "output_type": "display_data"
    },
    {
     "data": {
      "image/png": "[encoded data removed]",
      "text/plain": [
       "<Figure size 720x360 with 2 Axes>"
      ]
     },
     "metadata": {},
     "output_type": "display_data"
    }
   ],
   "source": [
    "#Construindo vários gráficos de dispersão envolvendo a combinação de diversos atributos com\n",
    "#a cor de cada elemento (ponto) indicando o cluster ao qual o elemento pertence.\n",
    "cluster_attributes_x = ['PIB_PER_CAPITA']\n",
    "cluster_attributes_y = ['POP_SEM_ESGOTO','POP_SEM_AGUA']\n",
    "\n",
    "for x in cluster_attributes_x:\n",
    "    for y in cluster_attributes_y:\n",
    "        if (x != y):\n",
    "            plt.figure(figsize=(10, 5))\n",
    "            plt.ion()\n",
    "            plt.title(x + \" vs \" + y)\n",
    "            plt.xlabel(x)\n",
    "            plt.ylabel(y)\n",
    "            plt.scatter(data[x], data[y], c=kmeans.labels_.astype(int), s=25, alpha=0.5, cmap=plt.cm.get_cmap('viridis', n_clust))\n",
    "            plt.colorbar(ticks=range(n_clust),label='Cluster')\n",
    "            plt.draw()\n",
    "            plt.pause(0.25)\n"
   ]
  },
  {
   "cell_type": "code",
   "execution_count": 79,
   "metadata": {},
   "outputs": [
    {
     "data": {
      "text/html": [
       "<div>\n",
       "<style scoped>\n",
       "    .dataframe tbody tr th:only-of-type {\n",
       "        vertical-align: middle;\n",
       "    }\n",
       "\n",
       "    .dataframe tbody tr th {\n",
       "        vertical-align: top;\n",
       "    }\n",
       "\n",
       "    .dataframe thead th {\n",
       "        text-align: right;\n",
       "    }\n",
       "</style>\n",
       "<table border=\"1\" class=\"dataframe\">\n",
       "  <thead>\n",
       "    <tr style=\"text-align: right;\">\n",
       "      <th></th>\n",
       "      <th>0</th>\n",
       "    </tr>\n",
       "    <tr>\n",
       "      <th>Cluster_KMean</th>\n",
       "      <th></th>\n",
       "    </tr>\n",
       "  </thead>\n",
       "  <tbody>\n",
       "    <tr>\n",
       "      <th>0</th>\n",
       "      <td>1785</td>\n",
       "    </tr>\n",
       "    <tr>\n",
       "      <th>1</th>\n",
       "      <td>9</td>\n",
       "    </tr>\n",
       "  </tbody>\n",
       "</table>\n",
       "</div>"
      ],
      "text/plain": [
       "                  0\n",
       "Cluster_KMean      \n",
       "0              1785\n",
       "1                 9"
      ]
     },
     "execution_count": 79,
     "metadata": {},
     "output_type": "execute_result"
    }
   ],
   "source": [
    "#Contando quantos municípios existem em cada grupo\n",
    "data.groupby('Cluster_KMean').size().to_frame()"
   ]
  },
  {
   "cell_type": "code",
   "execution_count": 80,
   "metadata": {},
   "outputs": [
    {
     "data": {
      "text/html": [
       "<div>\n",
       "<style scoped>\n",
       "    .dataframe tbody tr th:only-of-type {\n",
       "        vertical-align: middle;\n",
       "    }\n",
       "\n",
       "    .dataframe tbody tr th {\n",
       "        vertical-align: top;\n",
       "    }\n",
       "\n",
       "    .dataframe thead th {\n",
       "        text-align: right;\n",
       "    }\n",
       "</style>\n",
       "<table border=\"1\" class=\"dataframe\">\n",
       "  <thead>\n",
       "    <tr style=\"text-align: right;\">\n",
       "      <th></th>\n",
       "      <th>POP_SEM_ESGOTO</th>\n",
       "      <th>POP_SEM_AGUA</th>\n",
       "      <th>PIB_PER_CAPITA</th>\n",
       "    </tr>\n",
       "    <tr>\n",
       "      <th>Cluster_KMean</th>\n",
       "      <th></th>\n",
       "      <th></th>\n",
       "      <th></th>\n",
       "    </tr>\n",
       "  </thead>\n",
       "  <tbody>\n",
       "    <tr>\n",
       "      <th>0</th>\n",
       "      <td>19,944.14</td>\n",
       "      <td>8,177.14</td>\n",
       "      <td>11,146.68</td>\n",
       "    </tr>\n",
       "    <tr>\n",
       "      <th>1</th>\n",
       "      <td>655,998.78</td>\n",
       "      <td>192,915.78</td>\n",
       "      <td>23,274.36</td>\n",
       "    </tr>\n",
       "  </tbody>\n",
       "</table>\n",
       "</div>"
      ],
      "text/plain": [
       "               POP_SEM_ESGOTO  POP_SEM_AGUA  PIB_PER_CAPITA\n",
       "Cluster_KMean                                              \n",
       "0                   19,944.14      8,177.14       11,146.68\n",
       "1                  655,998.78    192,915.78       23,274.36"
      ]
     },
     "execution_count": 80,
     "metadata": {},
     "output_type": "execute_result"
    }
   ],
   "source": [
    "#Olhando a média dos valores dos atributos que foram usados para o agrupamento\n",
    "#agrupados pelo atributo Cluster_KMean.\n",
    "data[cluster_attributes + ['Cluster_KMean']].groupby('Cluster_KMean').mean()"
   ]
  },
  {
   "cell_type": "code",
   "execution_count": 81,
   "metadata": {},
   "outputs": [],
   "source": [
    "#Escolhendo os atributos para visualização\n",
    "view_attributes = ['MUNICIPIO', 'ESTADO', 'POP_TOT', 'PC_POP_AGUA', 'PC_POP_ESGOTO', 'VOL_AGUA_TRATADA_DISP_PER_CAPITA', 'VOL_ESGOTO_COLETADO_PER_CAPITA'] + cluster_attributes + ['Cluster_KMean']"
   ]
  },
  {
   "cell_type": "code",
   "execution_count": 82,
   "metadata": {},
   "outputs": [
    {
     "data": {
      "text/html": [
       "<div>\n",
       "<style scoped>\n",
       "    .dataframe tbody tr th:only-of-type {\n",
       "        vertical-align: middle;\n",
       "    }\n",
       "\n",
       "    .dataframe tbody tr th {\n",
       "        vertical-align: top;\n",
       "    }\n",
       "\n",
       "    .dataframe thead th {\n",
       "        text-align: right;\n",
       "    }\n",
       "</style>\n",
       "<table border=\"1\" class=\"dataframe\">\n",
       "  <thead>\n",
       "    <tr style=\"text-align: right;\">\n",
       "      <th></th>\n",
       "      <th>MUNICIPIO</th>\n",
       "      <th>ESTADO</th>\n",
       "      <th>POP_TOT</th>\n",
       "      <th>PC_POP_AGUA</th>\n",
       "      <th>PC_POP_ESGOTO</th>\n",
       "      <th>VOL_AGUA_TRATADA_DISP_PER_CAPITA</th>\n",
       "      <th>VOL_ESGOTO_COLETADO_PER_CAPITA</th>\n",
       "      <th>POP_SEM_ESGOTO</th>\n",
       "      <th>POP_SEM_AGUA</th>\n",
       "      <th>PIB_PER_CAPITA</th>\n",
       "      <th>Cluster_KMean</th>\n",
       "    </tr>\n",
       "  </thead>\n",
       "  <tbody>\n",
       "    <tr>\n",
       "      <th>2655</th>\n",
       "      <td>João Pessoa</td>\n",
       "      <td>PB</td>\n",
       "      <td>800323</td>\n",
       "      <td>100.00</td>\n",
       "      <td>79.30</td>\n",
       "      <td>81.99</td>\n",
       "      <td>44.74</td>\n",
       "      <td>165,631.00</td>\n",
       "      <td>0.00</td>\n",
       "      <td>24,319.82</td>\n",
       "      <td>0</td>\n",
       "    </tr>\n",
       "    <tr>\n",
       "      <th>4713</th>\n",
       "      <td>Aracaju</td>\n",
       "      <td>SE</td>\n",
       "      <td>648939</td>\n",
       "      <td>99.78</td>\n",
       "      <td>52.45</td>\n",
       "      <td>81.60</td>\n",
       "      <td>30.34</td>\n",
       "      <td>308,593.00</td>\n",
       "      <td>1,455.00</td>\n",
       "      <td>25,185.55</td>\n",
       "      <td>0</td>\n",
       "    </tr>\n",
       "    <tr>\n",
       "      <th>332</th>\n",
       "      <td>Feira de Santana</td>\n",
       "      <td>BA</td>\n",
       "      <td>609913</td>\n",
       "      <td>98.06</td>\n",
       "      <td>60.96</td>\n",
       "      <td>63.13</td>\n",
       "      <td>27.69</td>\n",
       "      <td>238,081.00</td>\n",
       "      <td>11,805.00</td>\n",
       "      <td>21,765.41</td>\n",
       "      <td>0</td>\n",
       "    </tr>\n",
       "    <tr>\n",
       "      <th>2611</th>\n",
       "      <td>Campina Grande</td>\n",
       "      <td>PB</td>\n",
       "      <td>407472</td>\n",
       "      <td>100.00</td>\n",
       "      <td>90.29</td>\n",
       "      <td>60.90</td>\n",
       "      <td>34.94</td>\n",
       "      <td>39,580.00</td>\n",
       "      <td>0.00</td>\n",
       "      <td>21,077.30</td>\n",
       "      <td>0</td>\n",
       "    </tr>\n",
       "    <tr>\n",
       "      <th>2896</th>\n",
       "      <td>Olinda</td>\n",
       "      <td>PE</td>\n",
       "      <td>391835</td>\n",
       "      <td>99.23</td>\n",
       "      <td>45.17</td>\n",
       "      <td>70.12</td>\n",
       "      <td>15.06</td>\n",
       "      <td>214,836.00</td>\n",
       "      <td>3,011.00</td>\n",
       "      <td>13,917.85</td>\n",
       "      <td>0</td>\n",
       "    </tr>\n",
       "    <tr>\n",
       "      <th>2829</th>\n",
       "      <td>Caruaru</td>\n",
       "      <td>PE</td>\n",
       "      <td>356872</td>\n",
       "      <td>100.00</td>\n",
       "      <td>54.61</td>\n",
       "      <td>51.02</td>\n",
       "      <td>14.39</td>\n",
       "      <td>161,979.00</td>\n",
       "      <td>0.00</td>\n",
       "      <td>19,311.06</td>\n",
       "      <td>0</td>\n",
       "    </tr>\n",
       "    <tr>\n",
       "      <th>2911</th>\n",
       "      <td>Petrolina</td>\n",
       "      <td>PE</td>\n",
       "      <td>343865</td>\n",
       "      <td>100.00</td>\n",
       "      <td>83.51</td>\n",
       "      <td>64.39</td>\n",
       "      <td>25.92</td>\n",
       "      <td>56,712.00</td>\n",
       "      <td>0.00</td>\n",
       "      <td>17,454.51</td>\n",
       "      <td>0</td>\n",
       "    </tr>\n",
       "    <tr>\n",
       "      <th>614</th>\n",
       "      <td>Vitória da Conquista</td>\n",
       "      <td>BA</td>\n",
       "      <td>338885</td>\n",
       "      <td>100.00</td>\n",
       "      <td>92.23</td>\n",
       "      <td>49.43</td>\n",
       "      <td>31.94</td>\n",
       "      <td>26,332.00</td>\n",
       "      <td>0.00</td>\n",
       "      <td>18,589.99</td>\n",
       "      <td>0</td>\n",
       "    </tr>\n",
       "    <tr>\n",
       "      <th>2907</th>\n",
       "      <td>Paulista</td>\n",
       "      <td>PE</td>\n",
       "      <td>329117</td>\n",
       "      <td>100.00</td>\n",
       "      <td>52.90</td>\n",
       "      <td>73.01</td>\n",
       "      <td>12.13</td>\n",
       "      <td>155,001.00</td>\n",
       "      <td>0.00</td>\n",
       "      <td>12,240.33</td>\n",
       "      <td>0</td>\n",
       "    </tr>\n",
       "    <tr>\n",
       "      <th>3771</th>\n",
       "      <td>Mossoró</td>\n",
       "      <td>RN</td>\n",
       "      <td>294076</td>\n",
       "      <td>100.00</td>\n",
       "      <td>46.24</td>\n",
       "      <td>89.54</td>\n",
       "      <td>20.08</td>\n",
       "      <td>158,094.00</td>\n",
       "      <td>1.00</td>\n",
       "      <td>20,858.33</td>\n",
       "      <td>0</td>\n",
       "    </tr>\n",
       "  </tbody>\n",
       "</table>\n",
       "</div>"
      ],
      "text/plain": [
       "                 MUNICIPIO ESTADO  POP_TOT  PC_POP_AGUA  PC_POP_ESGOTO  \\\n",
       "2655           João Pessoa     PB   800323       100.00          79.30   \n",
       "4713               Aracaju     SE   648939        99.78          52.45   \n",
       "332       Feira de Santana     BA   609913        98.06          60.96   \n",
       "2611        Campina Grande     PB   407472       100.00          90.29   \n",
       "2896                Olinda     PE   391835        99.23          45.17   \n",
       "2829               Caruaru     PE   356872       100.00          54.61   \n",
       "2911             Petrolina     PE   343865       100.00          83.51   \n",
       "614   Vitória da Conquista     BA   338885       100.00          92.23   \n",
       "2907              Paulista     PE   329117       100.00          52.90   \n",
       "3771               Mossoró     RN   294076       100.00          46.24   \n",
       "\n",
       "      VOL_AGUA_TRATADA_DISP_PER_CAPITA  VOL_ESGOTO_COLETADO_PER_CAPITA  \\\n",
       "2655                             81.99                           44.74   \n",
       "4713                             81.60                           30.34   \n",
       "332                              63.13                           27.69   \n",
       "2611                             60.90                           34.94   \n",
       "2896                             70.12                           15.06   \n",
       "2829                             51.02                           14.39   \n",
       "2911                             64.39                           25.92   \n",
       "614                              49.43                           31.94   \n",
       "2907                             73.01                           12.13   \n",
       "3771                             89.54                           20.08   \n",
       "\n",
       "      POP_SEM_ESGOTO  POP_SEM_AGUA  PIB_PER_CAPITA  Cluster_KMean  \n",
       "2655      165,631.00          0.00       24,319.82              0  \n",
       "4713      308,593.00      1,455.00       25,185.55              0  \n",
       "332       238,081.00     11,805.00       21,765.41              0  \n",
       "2611       39,580.00          0.00       21,077.30              0  \n",
       "2896      214,836.00      3,011.00       13,917.85              0  \n",
       "2829      161,979.00          0.00       19,311.06              0  \n",
       "2911       56,712.00          0.00       17,454.51              0  \n",
       "614        26,332.00          0.00       18,589.99              0  \n",
       "2907      155,001.00          0.00       12,240.33              0  \n",
       "3771      158,094.00          1.00       20,858.33              0  "
      ]
     },
     "execution_count": 82,
     "metadata": {},
     "output_type": "execute_result"
    }
   ],
   "source": [
    "#Visualiando uma amostra dos elementos classificados como Cluster 0 segundo o algorítmo KMeans\n",
    "#ordenado em ordem descrescente de POT_TOT\n",
    "data[data['Cluster_KMean'] == 0].sort_values(by='POP_TOT', ascending=False)[view_attributes].head(10)"
   ]
  },
  {
   "cell_type": "code",
   "execution_count": 83,
   "metadata": {},
   "outputs": [
    {
     "data": {
      "text/html": [
       "<div>\n",
       "<style scoped>\n",
       "    .dataframe tbody tr th:only-of-type {\n",
       "        vertical-align: middle;\n",
       "    }\n",
       "\n",
       "    .dataframe tbody tr th {\n",
       "        vertical-align: top;\n",
       "    }\n",
       "\n",
       "    .dataframe thead th {\n",
       "        text-align: right;\n",
       "    }\n",
       "</style>\n",
       "<table border=\"1\" class=\"dataframe\">\n",
       "  <thead>\n",
       "    <tr style=\"text-align: right;\">\n",
       "      <th></th>\n",
       "      <th>MUNICIPIO</th>\n",
       "      <th>ESTADO</th>\n",
       "      <th>POP_TOT</th>\n",
       "      <th>PC_POP_AGUA</th>\n",
       "      <th>PC_POP_ESGOTO</th>\n",
       "      <th>VOL_AGUA_TRATADA_DISP_PER_CAPITA</th>\n",
       "      <th>VOL_ESGOTO_COLETADO_PER_CAPITA</th>\n",
       "      <th>POP_SEM_ESGOTO</th>\n",
       "      <th>POP_SEM_AGUA</th>\n",
       "      <th>PIB_PER_CAPITA</th>\n",
       "      <th>Cluster_KMean</th>\n",
       "    </tr>\n",
       "  </thead>\n",
       "  <tbody>\n",
       "    <tr>\n",
       "      <th>537</th>\n",
       "      <td>Salvador</td>\n",
       "      <td>BA</td>\n",
       "      <td>2857329</td>\n",
       "      <td>91.01</td>\n",
       "      <td>81.29</td>\n",
       "      <td>95.35</td>\n",
       "      <td>50.69</td>\n",
       "      <td>534,726.00</td>\n",
       "      <td>256,952.00</td>\n",
       "      <td>21,231.48</td>\n",
       "      <td>1</td>\n",
       "    </tr>\n",
       "    <tr>\n",
       "      <th>677</th>\n",
       "      <td>Fortaleza</td>\n",
       "      <td>CE</td>\n",
       "      <td>2643247</td>\n",
       "      <td>77.31</td>\n",
       "      <td>49.89</td>\n",
       "      <td>70.83</td>\n",
       "      <td>20.91</td>\n",
       "      <td>1,324,454.00</td>\n",
       "      <td>599,781.00</td>\n",
       "      <td>23,436.66</td>\n",
       "      <td>1</td>\n",
       "    </tr>\n",
       "    <tr>\n",
       "      <th>2917</th>\n",
       "      <td>Recife</td>\n",
       "      <td>PE</td>\n",
       "      <td>1637834</td>\n",
       "      <td>88.12</td>\n",
       "      <td>43.54</td>\n",
       "      <td>98.29</td>\n",
       "      <td>27.19</td>\n",
       "      <td>924,735.00</td>\n",
       "      <td>194,525.00</td>\n",
       "      <td>31,743.72</td>\n",
       "      <td>1</td>\n",
       "    </tr>\n",
       "    <tr>\n",
       "      <th>1313</th>\n",
       "      <td>São Luís</td>\n",
       "      <td>MA</td>\n",
       "      <td>1094667</td>\n",
       "      <td>82.02</td>\n",
       "      <td>48.26</td>\n",
       "      <td>61.94</td>\n",
       "      <td>27.98</td>\n",
       "      <td>566,430.00</td>\n",
       "      <td>196,777.00</td>\n",
       "      <td>27,226.41</td>\n",
       "      <td>1</td>\n",
       "    </tr>\n",
       "    <tr>\n",
       "      <th>68</th>\n",
       "      <td>Maceió</td>\n",
       "      <td>AL</td>\n",
       "      <td>1012382</td>\n",
       "      <td>87.08</td>\n",
       "      <td>42.19</td>\n",
       "      <td>69.37</td>\n",
       "      <td>11.72</td>\n",
       "      <td>585,228.00</td>\n",
       "      <td>130,760.00</td>\n",
       "      <td>21,210.09</td>\n",
       "      <td>1</td>\n",
       "    </tr>\n",
       "    <tr>\n",
       "      <th>3772</th>\n",
       "      <td>Natal</td>\n",
       "      <td>RN</td>\n",
       "      <td>877640</td>\n",
       "      <td>97.19</td>\n",
       "      <td>39.08</td>\n",
       "      <td>96.38</td>\n",
       "      <td>21.93</td>\n",
       "      <td>534,621.00</td>\n",
       "      <td>24,668.00</td>\n",
       "      <td>26,497.08</td>\n",
       "      <td>1</td>\n",
       "    </tr>\n",
       "    <tr>\n",
       "      <th>3185</th>\n",
       "      <td>Teresina</td>\n",
       "      <td>PI</td>\n",
       "      <td>861442</td>\n",
       "      <td>95.59</td>\n",
       "      <td>29.25</td>\n",
       "      <td>123.45</td>\n",
       "      <td>9.53</td>\n",
       "      <td>609,442.00</td>\n",
       "      <td>38,010.00</td>\n",
       "      <td>22,481.67</td>\n",
       "      <td>1</td>\n",
       "    </tr>\n",
       "    <tr>\n",
       "      <th>2872</th>\n",
       "      <td>Jaboatão dos Guararapes</td>\n",
       "      <td>PE</td>\n",
       "      <td>697636</td>\n",
       "      <td>78.77</td>\n",
       "      <td>19.22</td>\n",
       "      <td>56.69</td>\n",
       "      <td>4.75</td>\n",
       "      <td>563,523.00</td>\n",
       "      <td>148,085.00</td>\n",
       "      <td>19,463.25</td>\n",
       "      <td>1</td>\n",
       "    </tr>\n",
       "    <tr>\n",
       "      <th>662</th>\n",
       "      <td>Caucaia</td>\n",
       "      <td>CE</td>\n",
       "      <td>363982</td>\n",
       "      <td>59.70</td>\n",
       "      <td>28.34</td>\n",
       "      <td>44.55</td>\n",
       "      <td>10.09</td>\n",
       "      <td>260,830.00</td>\n",
       "      <td>146,684.00</td>\n",
       "      <td>16,178.90</td>\n",
       "      <td>1</td>\n",
       "    </tr>\n",
       "  </tbody>\n",
       "</table>\n",
       "</div>"
      ],
      "text/plain": [
       "                    MUNICIPIO ESTADO  POP_TOT  PC_POP_AGUA  PC_POP_ESGOTO  \\\n",
       "537                  Salvador     BA  2857329        91.01          81.29   \n",
       "677                 Fortaleza     CE  2643247        77.31          49.89   \n",
       "2917                   Recife     PE  1637834        88.12          43.54   \n",
       "1313                 São Luís     MA  1094667        82.02          48.26   \n",
       "68                     Maceió     AL  1012382        87.08          42.19   \n",
       "3772                    Natal     RN   877640        97.19          39.08   \n",
       "3185                 Teresina     PI   861442        95.59          29.25   \n",
       "2872  Jaboatão dos Guararapes     PE   697636        78.77          19.22   \n",
       "662                   Caucaia     CE   363982        59.70          28.34   \n",
       "\n",
       "      VOL_AGUA_TRATADA_DISP_PER_CAPITA  VOL_ESGOTO_COLETADO_PER_CAPITA  \\\n",
       "537                              95.35                           50.69   \n",
       "677                              70.83                           20.91   \n",
       "2917                             98.29                           27.19   \n",
       "1313                             61.94                           27.98   \n",
       "68                               69.37                           11.72   \n",
       "3772                             96.38                           21.93   \n",
       "3185                            123.45                            9.53   \n",
       "2872                             56.69                            4.75   \n",
       "662                              44.55                           10.09   \n",
       "\n",
       "      POP_SEM_ESGOTO  POP_SEM_AGUA  PIB_PER_CAPITA  Cluster_KMean  \n",
       "537       534,726.00    256,952.00       21,231.48              1  \n",
       "677     1,324,454.00    599,781.00       23,436.66              1  \n",
       "2917      924,735.00    194,525.00       31,743.72              1  \n",
       "1313      566,430.00    196,777.00       27,226.41              1  \n",
       "68        585,228.00    130,760.00       21,210.09              1  \n",
       "3772      534,621.00     24,668.00       26,497.08              1  \n",
       "3185      609,442.00     38,010.00       22,481.67              1  \n",
       "2872      563,523.00    148,085.00       19,463.25              1  \n",
       "662       260,830.00    146,684.00       16,178.90              1  "
      ]
     },
     "execution_count": 83,
     "metadata": {},
     "output_type": "execute_result"
    }
   ],
   "source": [
    "#Visualiando uma amostra dos elementos classificados como Cluster 1 segundo o algorítmo KMeans\n",
    "#ordenado em ordem descrescente de POT_TOT\n",
    "data[data['Cluster_KMean'] == 1].sort_values(by='POP_TOT', ascending=False)[view_attributes].head(10)"
   ]
  },
  {
   "cell_type": "markdown",
   "metadata": {},
   "source": [
    "**OBSERVAÇÕES DA ANÁLISE:** \n",
    "\n",
    "A quantidade de elementos por cluster é bastante desigual. O algoritmo KMeans se mostrou inadequado para o problema.\n"
   ]
  },
  {
   "cell_type": "markdown",
   "metadata": {},
   "source": [
    "### Criando agrupamentos com algoritmo DBScan"
   ]
  },
  {
   "cell_type": "markdown",
   "metadata": {},
   "source": [
    "**Nota metodológica:** Significado de alguns hiperparâmetros: \n",
    "\n",
    "**eps:** Dois pontos são considerados vizinhos se a distância entre eles é menor que o valor do 'eps'. Intuitivamente é como se ele fosse o valor do raio num gráfico de 2 dimensões.  \n",
    "**min_samples:** É a quantidade mínima de elementos que cada cluster deve ter.  \n",
    "\n",
    "O gráfico abaixo mostra o valor de eps vs número de elementos vizinho. Quanto maior o valor do eps, mais elementos ele irá embarcar e consequentemente menor será a quantidade de agrupamentos obtidos."
   ]
  },
  {
   "cell_type": "code",
   "execution_count": 84,
   "metadata": {},
   "outputs": [],
   "source": [
    "#NearestNeighbors irá retornar na lista bidimensional 'distances' a distância entre cada um dos\n",
    "#elementos. A lista 'indices' não é utilizada; consta na atribuição apenas para separação\n",
    "#dos arrays de distância e indices fornecidos por NearestNeighbors\n",
    "nbrs = NearestNeighbors(n_neighbors=len(data_norm)).fit(data_norm)\n",
    "distances, indices = nbrs.kneighbors(data_norm)"
   ]
  },
  {
   "cell_type": "code",
   "execution_count": 85,
   "metadata": {},
   "outputs": [
    {
     "data": {
      "text/plain": [
       "(1794, 1794)"
      ]
     },
     "execution_count": 85,
     "metadata": {},
     "output_type": "execute_result"
    }
   ],
   "source": [
    "distances.shape"
   ]
  },
  {
   "cell_type": "code",
   "execution_count": 86,
   "metadata": {},
   "outputs": [
    {
     "data": {
      "image/png": "[encoded data removed]",
      "text/plain": [
       "<Figure size 432x288 with 1 Axes>"
      ]
     },
     "metadata": {},
     "output_type": "display_data"
    }
   ],
   "source": [
    "#Construindo gráfico para avaliar o melhor valor para eps. Ajuste a escala com plt.ylim\n",
    "#conforme a necessidade\n",
    "distances2 = np.sort(distances, axis=0)\n",
    "distances2 = distances2[:,1]\n",
    "plt.plot(distances2)\n",
    "plt.grid(b=True, which='both', color='#666666', linestyle='-')\n",
    "plt.ylim(0, 0.3)\n",
    "plt.xlabel('Número de elementos vizinhos')\n",
    "plt.ylabel('eps')\n",
    "plt.show()"
   ]
  },
  {
   "cell_type": "code",
   "execution_count": 87,
   "metadata": {},
   "outputs": [],
   "source": [
    "#Analisando o gráfico escolhemos o melhor valor para best_eps e best_min_samples\n",
    "#Uma forma de se estimar o hyperparâmetro min_samples é usar a fórmula \n",
    "#min_samples = ln(n)\n",
    "best_eps = 0.2\n",
    "best_min_samples = int(math.log(math.sqrt(distances.size)))"
   ]
  },
  {
   "cell_type": "code",
   "execution_count": 88,
   "metadata": {},
   "outputs": [],
   "source": [
    "#eps é o raio de distãncia\n",
    "dbs = DBSCAN(eps=best_eps, min_samples=best_min_samples).fit(data_norm)"
   ]
  },
  {
   "cell_type": "markdown",
   "metadata": {},
   "source": [
    "**Nota metodológica:** \n",
    "\n",
    "Como é calculado o silhouette score?  \n",
    "\n",
    "Sendo:  \n",
    "a = distância média entre os elementos dentro do cluster;  \n",
    "b = distância média entre cada elemento do cluster e o clusters mais próximo  \n",
    "\n",
    "\n",
    "silhouette score = (b - a) / max(a, b)\n",
    "\n",
    "O valor de silhouette score varia entre +1 e -1. Sendo +1 o melhor caso e -1 o pior.\n"
   ]
  },
  {
   "cell_type": "code",
   "execution_count": 89,
   "metadata": {},
   "outputs": [],
   "source": [
    "n_clusters_ = len(set(dbs.labels_)) - (1 if -1 in dbs.labels_ else 0)\n",
    "n_noise_ = list(dbs.labels_).count(-1)"
   ]
  },
  {
   "cell_type": "code",
   "execution_count": 90,
   "metadata": {},
   "outputs": [
    {
     "name": "stdout",
     "output_type": "stream",
     "text": [
      "Número estimado de clusters: 1\n",
      "Número estimado de pontos de ruído (noise points): 233\n",
      "Silhouette score: 0.672\n"
     ]
    }
   ],
   "source": [
    "# Silhouette_score varia entre -1 a +1. Quanto mais próximo de +1 melhor.\n",
    "print('Número estimado de clusters: %d' % n_clusters_)\n",
    "print('Número estimado de pontos de ruído (noise points): %d' % n_noise_)\n",
    "print(\"Silhouette score: %0.3f\" % silhouette_score(data_norm, dbs.labels_))"
   ]
  },
  {
   "cell_type": "code",
   "execution_count": 91,
   "metadata": {},
   "outputs": [],
   "source": [
    "#adicionando uma nova coluna com a informação do cluster\n",
    "predict = dbs.fit_predict(data_norm)\n",
    "data['Cluster_DBScan'] = pd.Series(predict, index=data.index)"
   ]
  },
  {
   "cell_type": "code",
   "execution_count": 92,
   "metadata": {},
   "outputs": [
    {
     "data": {
      "image/png": "[encoded data removed]",
      "text/plain": [
       "<Figure size 720x360 with 2 Axes>"
      ]
     },
     "metadata": {},
     "output_type": "display_data"
    },
    {
     "data": {
      "image/png": "[encoded data removed]",
      "text/plain": [
       "<Figure size 720x360 with 2 Axes>"
      ]
     },
     "metadata": {},
     "output_type": "display_data"
    }
   ],
   "source": [
    "#Construindo vários gráficos de dispersão envolvendo a combinação de diversos atributos com\n",
    "#a cor de cada elemento (ponto) indicando o cluster ao qual o elemento pertence.\n",
    "cluster_attributes_x = ['PIB_PER_CAPITA']\n",
    "cluster_attributes_y = ['POP_SEM_ESGOTO','POP_SEM_AGUA']\n",
    "\n",
    "\n",
    "for x in cluster_attributes_x:\n",
    "    for y in cluster_attributes_y:\n",
    "        if (x != y):\n",
    "            plt.figure(figsize=(10, 5))\n",
    "            plt.ion()\n",
    "            plt.title(x + \" vs \" + y)\n",
    "            plt.xlabel(x)\n",
    "            plt.ylabel(y)\n",
    "            plt.scatter(data[x], data[y], c=dbs.labels_.astype(int), s=25, alpha=0.5, cmap=plt.cm.get_cmap('viridis', n_clust))\n",
    "            plt.colorbar(ticks=range(n_clust),label='Cluster')\n",
    "            plt.draw()\n",
    "            plt.pause(0.25)\n"
   ]
  },
  {
   "cell_type": "code",
   "execution_count": 93,
   "metadata": {},
   "outputs": [
    {
     "data": {
      "text/html": [
       "<div>\n",
       "<style scoped>\n",
       "    .dataframe tbody tr th:only-of-type {\n",
       "        vertical-align: middle;\n",
       "    }\n",
       "\n",
       "    .dataframe tbody tr th {\n",
       "        vertical-align: top;\n",
       "    }\n",
       "\n",
       "    .dataframe thead th {\n",
       "        text-align: right;\n",
       "    }\n",
       "</style>\n",
       "<table border=\"1\" class=\"dataframe\">\n",
       "  <thead>\n",
       "    <tr style=\"text-align: right;\">\n",
       "      <th></th>\n",
       "      <th>POP_SEM_ESGOTO</th>\n",
       "      <th>POP_SEM_AGUA</th>\n",
       "      <th>PIB_PER_CAPITA</th>\n",
       "    </tr>\n",
       "    <tr>\n",
       "      <th>Cluster_DBScan</th>\n",
       "      <th></th>\n",
       "      <th></th>\n",
       "      <th></th>\n",
       "    </tr>\n",
       "  </thead>\n",
       "  <tbody>\n",
       "    <tr>\n",
       "      <th>-1</th>\n",
       "      <td>83,361.25</td>\n",
       "      <td>26,310.28</td>\n",
       "      <td>25,572.90</td>\n",
       "    </tr>\n",
       "    <tr>\n",
       "      <th>0</th>\n",
       "      <td>14,145.49</td>\n",
       "      <td>6,535.65</td>\n",
       "      <td>9,063.29</td>\n",
       "    </tr>\n",
       "  </tbody>\n",
       "</table>\n",
       "</div>"
      ],
      "text/plain": [
       "                POP_SEM_ESGOTO  POP_SEM_AGUA  PIB_PER_CAPITA\n",
       "Cluster_DBScan                                              \n",
       "-1                   83,361.25     26,310.28       25,572.90\n",
       " 0                   14,145.49      6,535.65        9,063.29"
      ]
     },
     "execution_count": 93,
     "metadata": {},
     "output_type": "execute_result"
    }
   ],
   "source": [
    "#Olhando a média dos valores dos atributos que foram usados para o agrupamento\n",
    "#agrupados pelo atributo Cluster_DBScan.\n",
    "data[cluster_attributes + ['Cluster_DBScan']].groupby('Cluster_DBScan').mean()"
   ]
  },
  {
   "cell_type": "code",
   "execution_count": 94,
   "metadata": {},
   "outputs": [
    {
     "data": {
      "text/html": [
       "<div>\n",
       "<style scoped>\n",
       "    .dataframe tbody tr th:only-of-type {\n",
       "        vertical-align: middle;\n",
       "    }\n",
       "\n",
       "    .dataframe tbody tr th {\n",
       "        vertical-align: top;\n",
       "    }\n",
       "\n",
       "    .dataframe thead th {\n",
       "        text-align: right;\n",
       "    }\n",
       "</style>\n",
       "<table border=\"1\" class=\"dataframe\">\n",
       "  <thead>\n",
       "    <tr style=\"text-align: right;\">\n",
       "      <th></th>\n",
       "      <th>0</th>\n",
       "    </tr>\n",
       "    <tr>\n",
       "      <th>Cluster_DBScan</th>\n",
       "      <th></th>\n",
       "    </tr>\n",
       "  </thead>\n",
       "  <tbody>\n",
       "    <tr>\n",
       "      <th>-1</th>\n",
       "      <td>233</td>\n",
       "    </tr>\n",
       "    <tr>\n",
       "      <th>0</th>\n",
       "      <td>1561</td>\n",
       "    </tr>\n",
       "  </tbody>\n",
       "</table>\n",
       "</div>"
      ],
      "text/plain": [
       "                   0\n",
       "Cluster_DBScan      \n",
       "-1               233\n",
       " 0              1561"
      ]
     },
     "execution_count": 94,
     "metadata": {},
     "output_type": "execute_result"
    }
   ],
   "source": [
    "#Contando quantos municípios existem em cada grupo\n",
    "data.groupby('Cluster_DBScan').size().to_frame()"
   ]
  },
  {
   "cell_type": "code",
   "execution_count": 95,
   "metadata": {},
   "outputs": [
    {
     "data": {
      "text/html": [
       "<div>\n",
       "<style scoped>\n",
       "    .dataframe tbody tr th:only-of-type {\n",
       "        vertical-align: middle;\n",
       "    }\n",
       "\n",
       "    .dataframe tbody tr th {\n",
       "        vertical-align: top;\n",
       "    }\n",
       "\n",
       "    .dataframe thead th {\n",
       "        text-align: right;\n",
       "    }\n",
       "</style>\n",
       "<table border=\"1\" class=\"dataframe\">\n",
       "  <thead>\n",
       "    <tr style=\"text-align: right;\">\n",
       "      <th></th>\n",
       "      <th></th>\n",
       "      <th>0</th>\n",
       "    </tr>\n",
       "    <tr>\n",
       "      <th>ESTADO</th>\n",
       "      <th>Cluster_DBScan</th>\n",
       "      <th></th>\n",
       "    </tr>\n",
       "  </thead>\n",
       "  <tbody>\n",
       "    <tr>\n",
       "      <th rowspan=\"2\" valign=\"top\">AL</th>\n",
       "      <th>-1</th>\n",
       "      <td>13</td>\n",
       "    </tr>\n",
       "    <tr>\n",
       "      <th>0</th>\n",
       "      <td>89</td>\n",
       "    </tr>\n",
       "    <tr>\n",
       "      <th rowspan=\"2\" valign=\"top\">BA</th>\n",
       "      <th>-1</th>\n",
       "      <td>44</td>\n",
       "    </tr>\n",
       "    <tr>\n",
       "      <th>0</th>\n",
       "      <td>373</td>\n",
       "    </tr>\n",
       "    <tr>\n",
       "      <th rowspan=\"2\" valign=\"top\">CE</th>\n",
       "      <th>-1</th>\n",
       "      <td>47</td>\n",
       "    </tr>\n",
       "    <tr>\n",
       "      <th>0</th>\n",
       "      <td>137</td>\n",
       "    </tr>\n",
       "    <tr>\n",
       "      <th rowspan=\"2\" valign=\"top\">MA</th>\n",
       "      <th>-1</th>\n",
       "      <td>37</td>\n",
       "    </tr>\n",
       "    <tr>\n",
       "      <th>0</th>\n",
       "      <td>180</td>\n",
       "    </tr>\n",
       "    <tr>\n",
       "      <th rowspan=\"2\" valign=\"top\">PB</th>\n",
       "      <th>-1</th>\n",
       "      <td>11</td>\n",
       "    </tr>\n",
       "    <tr>\n",
       "      <th>0</th>\n",
       "      <td>212</td>\n",
       "    </tr>\n",
       "    <tr>\n",
       "      <th rowspan=\"2\" valign=\"top\">PE</th>\n",
       "      <th>-1</th>\n",
       "      <td>35</td>\n",
       "    </tr>\n",
       "    <tr>\n",
       "      <th>0</th>\n",
       "      <td>150</td>\n",
       "    </tr>\n",
       "    <tr>\n",
       "      <th rowspan=\"2\" valign=\"top\">PI</th>\n",
       "      <th>-1</th>\n",
       "      <td>15</td>\n",
       "    </tr>\n",
       "    <tr>\n",
       "      <th>0</th>\n",
       "      <td>209</td>\n",
       "    </tr>\n",
       "    <tr>\n",
       "      <th rowspan=\"2\" valign=\"top\">RN</th>\n",
       "      <th>-1</th>\n",
       "      <td>21</td>\n",
       "    </tr>\n",
       "    <tr>\n",
       "      <th>0</th>\n",
       "      <td>146</td>\n",
       "    </tr>\n",
       "    <tr>\n",
       "      <th rowspan=\"2\" valign=\"top\">SE</th>\n",
       "      <th>-1</th>\n",
       "      <td>10</td>\n",
       "    </tr>\n",
       "    <tr>\n",
       "      <th>0</th>\n",
       "      <td>65</td>\n",
       "    </tr>\n",
       "  </tbody>\n",
       "</table>\n",
       "</div>"
      ],
      "text/plain": [
       "                         0\n",
       "ESTADO Cluster_DBScan     \n",
       "AL     -1               13\n",
       "        0               89\n",
       "BA     -1               44\n",
       "        0              373\n",
       "CE     -1               47\n",
       "        0              137\n",
       "MA     -1               37\n",
       "        0              180\n",
       "PB     -1               11\n",
       "        0              212\n",
       "PE     -1               35\n",
       "        0              150\n",
       "PI     -1               15\n",
       "        0              209\n",
       "RN     -1               21\n",
       "        0              146\n",
       "SE     -1               10\n",
       "        0               65"
      ]
     },
     "execution_count": 95,
     "metadata": {},
     "output_type": "execute_result"
    }
   ],
   "source": [
    "#Contando quantos municípios existem em cada grupo por estado\n",
    "data.groupby(['ESTADO','Cluster_DBScan']).size().to_frame()"
   ]
  },
  {
   "cell_type": "code",
   "execution_count": 96,
   "metadata": {},
   "outputs": [],
   "source": [
    "#Escolhendo os atributos para visualização\n",
    "view_attributes = ['MUNICIPIO', 'ESTADO', 'PC_POP_AGUA', 'PC_POP_ESGOTO', 'VOL_AGUA_TRATADA_DISP_PER_CAPITA', 'VOL_ESGOTO_COLETADO_PER_CAPITA'] + cluster_attributes + ['Cluster_DBScan']"
   ]
  },
  {
   "cell_type": "code",
   "execution_count": 97,
   "metadata": {},
   "outputs": [
    {
     "data": {
      "text/html": [
       "<div>\n",
       "<style scoped>\n",
       "    .dataframe tbody tr th:only-of-type {\n",
       "        vertical-align: middle;\n",
       "    }\n",
       "\n",
       "    .dataframe tbody tr th {\n",
       "        vertical-align: top;\n",
       "    }\n",
       "\n",
       "    .dataframe thead th {\n",
       "        text-align: right;\n",
       "    }\n",
       "</style>\n",
       "<table border=\"1\" class=\"dataframe\">\n",
       "  <thead>\n",
       "    <tr style=\"text-align: right;\">\n",
       "      <th></th>\n",
       "      <th>MUNICIPIO</th>\n",
       "      <th>ESTADO</th>\n",
       "      <th>PC_POP_AGUA</th>\n",
       "      <th>PC_POP_ESGOTO</th>\n",
       "      <th>VOL_AGUA_TRATADA_DISP_PER_CAPITA</th>\n",
       "      <th>VOL_ESGOTO_COLETADO_PER_CAPITA</th>\n",
       "      <th>POP_SEM_ESGOTO</th>\n",
       "      <th>POP_SEM_AGUA</th>\n",
       "      <th>PIB_PER_CAPITA</th>\n",
       "      <th>Cluster_DBScan</th>\n",
       "    </tr>\n",
       "  </thead>\n",
       "  <tbody>\n",
       "    <tr>\n",
       "      <th>614</th>\n",
       "      <td>Vitória da Conquista</td>\n",
       "      <td>BA</td>\n",
       "      <td>100.00</td>\n",
       "      <td>92.23</td>\n",
       "      <td>49.43</td>\n",
       "      <td>31.94</td>\n",
       "      <td>26,332.00</td>\n",
       "      <td>0.00</td>\n",
       "      <td>18,589.99</td>\n",
       "      <td>0</td>\n",
       "    </tr>\n",
       "    <tr>\n",
       "      <th>785</th>\n",
       "      <td>Sobral</td>\n",
       "      <td>CE</td>\n",
       "      <td>100.00</td>\n",
       "      <td>95.98</td>\n",
       "      <td>88.83</td>\n",
       "      <td>21.48</td>\n",
       "      <td>8,312.00</td>\n",
       "      <td>0.00</td>\n",
       "      <td>21,679.33</td>\n",
       "      <td>0</td>\n",
       "    </tr>\n",
       "    <tr>\n",
       "      <th>414</th>\n",
       "      <td>Jequié</td>\n",
       "      <td>BA</td>\n",
       "      <td>100.00</td>\n",
       "      <td>88.21</td>\n",
       "      <td>50.20</td>\n",
       "      <td>38.04</td>\n",
       "      <td>18,371.00</td>\n",
       "      <td>0.00</td>\n",
       "      <td>15,765.90</td>\n",
       "      <td>0</td>\n",
       "    </tr>\n",
       "    <tr>\n",
       "      <th>3813</th>\n",
       "      <td>São Gonçalo do Amarante</td>\n",
       "      <td>RN</td>\n",
       "      <td>100.00</td>\n",
       "      <td>30.79</td>\n",
       "      <td>74.83</td>\n",
       "      <td>18.03</td>\n",
       "      <td>69,975.00</td>\n",
       "      <td>2.00</td>\n",
       "      <td>13,935.05</td>\n",
       "      <td>0</td>\n",
       "    </tr>\n",
       "    <tr>\n",
       "      <th>606</th>\n",
       "      <td>Valença</td>\n",
       "      <td>BA</td>\n",
       "      <td>86.00</td>\n",
       "      <td>73.00</td>\n",
       "      <td>85.05</td>\n",
       "      <td>29.73</td>\n",
       "      <td>25,882.00</td>\n",
       "      <td>13,420.00</td>\n",
       "      <td>14,534.73</td>\n",
       "      <td>0</td>\n",
       "    </tr>\n",
       "    <tr>\n",
       "      <th>2943</th>\n",
       "      <td>Serra Talhada</td>\n",
       "      <td>PE</td>\n",
       "      <td>100.00</td>\n",
       "      <td>77.78</td>\n",
       "      <td>61.93</td>\n",
       "      <td>11.83</td>\n",
       "      <td>19,061.00</td>\n",
       "      <td>0.00</td>\n",
       "      <td>15,628.85</td>\n",
       "      <td>0</td>\n",
       "    </tr>\n",
       "    <tr>\n",
       "      <th>344</th>\n",
       "      <td>Guanambi</td>\n",
       "      <td>BA</td>\n",
       "      <td>100.00</td>\n",
       "      <td>62.75</td>\n",
       "      <td>53.37</td>\n",
       "      <td>24.27</td>\n",
       "      <td>31,292.00</td>\n",
       "      <td>0.00</td>\n",
       "      <td>14,558.12</td>\n",
       "      <td>0</td>\n",
       "    </tr>\n",
       "    <tr>\n",
       "      <th>395</th>\n",
       "      <td>Itapetinga</td>\n",
       "      <td>BA</td>\n",
       "      <td>100.00</td>\n",
       "      <td>94.00</td>\n",
       "      <td>72.64</td>\n",
       "      <td>27.48</td>\n",
       "      <td>4,529.00</td>\n",
       "      <td>0.00</td>\n",
       "      <td>13,955.55</td>\n",
       "      <td>0</td>\n",
       "    </tr>\n",
       "    <tr>\n",
       "      <th>104</th>\n",
       "      <td>Rio Largo</td>\n",
       "      <td>AL</td>\n",
       "      <td>79.18</td>\n",
       "      <td>31.03</td>\n",
       "      <td>63.80</td>\n",
       "      <td>6.27</td>\n",
       "      <td>51,618.00</td>\n",
       "      <td>15,582.00</td>\n",
       "      <td>13,424.77</td>\n",
       "      <td>0</td>\n",
       "    </tr>\n",
       "    <tr>\n",
       "      <th>2798</th>\n",
       "      <td>Arcoverde</td>\n",
       "      <td>PE</td>\n",
       "      <td>100.00</td>\n",
       "      <td>5.03</td>\n",
       "      <td>55.54</td>\n",
       "      <td>1.50</td>\n",
       "      <td>70,129.00</td>\n",
       "      <td>0.00</td>\n",
       "      <td>13,278.18</td>\n",
       "      <td>0</td>\n",
       "    </tr>\n",
       "  </tbody>\n",
       "</table>\n",
       "</div>"
      ],
      "text/plain": [
       "                    MUNICIPIO ESTADO  PC_POP_AGUA  PC_POP_ESGOTO  \\\n",
       "614      Vitória da Conquista     BA       100.00          92.23   \n",
       "785                    Sobral     CE       100.00          95.98   \n",
       "414                    Jequié     BA       100.00          88.21   \n",
       "3813  São Gonçalo do Amarante     RN       100.00          30.79   \n",
       "606                   Valença     BA        86.00          73.00   \n",
       "2943            Serra Talhada     PE       100.00          77.78   \n",
       "344                  Guanambi     BA       100.00          62.75   \n",
       "395                Itapetinga     BA       100.00          94.00   \n",
       "104                 Rio Largo     AL        79.18          31.03   \n",
       "2798                Arcoverde     PE       100.00           5.03   \n",
       "\n",
       "      VOL_AGUA_TRATADA_DISP_PER_CAPITA  VOL_ESGOTO_COLETADO_PER_CAPITA  \\\n",
       "614                              49.43                           31.94   \n",
       "785                              88.83                           21.48   \n",
       "414                              50.20                           38.04   \n",
       "3813                             74.83                           18.03   \n",
       "606                              85.05                           29.73   \n",
       "2943                             61.93                           11.83   \n",
       "344                              53.37                           24.27   \n",
       "395                              72.64                           27.48   \n",
       "104                              63.80                            6.27   \n",
       "2798                             55.54                            1.50   \n",
       "\n",
       "      POP_SEM_ESGOTO  POP_SEM_AGUA  PIB_PER_CAPITA  Cluster_DBScan  \n",
       "614        26,332.00          0.00       18,589.99               0  \n",
       "785         8,312.00          0.00       21,679.33               0  \n",
       "414        18,371.00          0.00       15,765.90               0  \n",
       "3813       69,975.00          2.00       13,935.05               0  \n",
       "606        25,882.00     13,420.00       14,534.73               0  \n",
       "2943       19,061.00          0.00       15,628.85               0  \n",
       "344        31,292.00          0.00       14,558.12               0  \n",
       "395         4,529.00          0.00       13,955.55               0  \n",
       "104        51,618.00     15,582.00       13,424.77               0  \n",
       "2798       70,129.00          0.00       13,278.18               0  "
      ]
     },
     "execution_count": 97,
     "metadata": {},
     "output_type": "execute_result"
    }
   ],
   "source": [
    "#Visualiando uma amostra dos elementos classificados como Cluster 0 segundo o algorítmo DBScan\n",
    "#ordenado em ordem descrescente de POT_TOT\n",
    "data[data['Cluster_DBScan'] == 0].sort_values(by='POP_TOT', ascending=False)[view_attributes].head(10)"
   ]
  },
  {
   "cell_type": "code",
   "execution_count": 98,
   "metadata": {},
   "outputs": [
    {
     "data": {
      "text/html": [
       "<div>\n",
       "<style scoped>\n",
       "    .dataframe tbody tr th:only-of-type {\n",
       "        vertical-align: middle;\n",
       "    }\n",
       "\n",
       "    .dataframe tbody tr th {\n",
       "        vertical-align: top;\n",
       "    }\n",
       "\n",
       "    .dataframe thead th {\n",
       "        text-align: right;\n",
       "    }\n",
       "</style>\n",
       "<table border=\"1\" class=\"dataframe\">\n",
       "  <thead>\n",
       "    <tr style=\"text-align: right;\">\n",
       "      <th></th>\n",
       "      <th>MUNICIPIO</th>\n",
       "      <th>ESTADO</th>\n",
       "      <th>PC_POP_AGUA</th>\n",
       "      <th>PC_POP_ESGOTO</th>\n",
       "      <th>VOL_AGUA_TRATADA_DISP_PER_CAPITA</th>\n",
       "      <th>VOL_ESGOTO_COLETADO_PER_CAPITA</th>\n",
       "      <th>POP_SEM_ESGOTO</th>\n",
       "      <th>POP_SEM_AGUA</th>\n",
       "      <th>PIB_PER_CAPITA</th>\n",
       "      <th>Cluster_DBScan</th>\n",
       "    </tr>\n",
       "  </thead>\n",
       "  <tbody>\n",
       "    <tr>\n",
       "      <th>537</th>\n",
       "      <td>Salvador</td>\n",
       "      <td>BA</td>\n",
       "      <td>91.01</td>\n",
       "      <td>81.29</td>\n",
       "      <td>95.35</td>\n",
       "      <td>50.69</td>\n",
       "      <td>534,726.00</td>\n",
       "      <td>256,952.00</td>\n",
       "      <td>21,231.48</td>\n",
       "      <td>-1</td>\n",
       "    </tr>\n",
       "    <tr>\n",
       "      <th>677</th>\n",
       "      <td>Fortaleza</td>\n",
       "      <td>CE</td>\n",
       "      <td>77.31</td>\n",
       "      <td>49.89</td>\n",
       "      <td>70.83</td>\n",
       "      <td>20.91</td>\n",
       "      <td>1,324,454.00</td>\n",
       "      <td>599,781.00</td>\n",
       "      <td>23,436.66</td>\n",
       "      <td>-1</td>\n",
       "    </tr>\n",
       "    <tr>\n",
       "      <th>2917</th>\n",
       "      <td>Recife</td>\n",
       "      <td>PE</td>\n",
       "      <td>88.12</td>\n",
       "      <td>43.54</td>\n",
       "      <td>98.29</td>\n",
       "      <td>27.19</td>\n",
       "      <td>924,735.00</td>\n",
       "      <td>194,525.00</td>\n",
       "      <td>31,743.72</td>\n",
       "      <td>-1</td>\n",
       "    </tr>\n",
       "    <tr>\n",
       "      <th>1313</th>\n",
       "      <td>São Luís</td>\n",
       "      <td>MA</td>\n",
       "      <td>82.02</td>\n",
       "      <td>48.26</td>\n",
       "      <td>61.94</td>\n",
       "      <td>27.98</td>\n",
       "      <td>566,430.00</td>\n",
       "      <td>196,777.00</td>\n",
       "      <td>27,226.41</td>\n",
       "      <td>-1</td>\n",
       "    </tr>\n",
       "    <tr>\n",
       "      <th>68</th>\n",
       "      <td>Maceió</td>\n",
       "      <td>AL</td>\n",
       "      <td>87.08</td>\n",
       "      <td>42.19</td>\n",
       "      <td>69.37</td>\n",
       "      <td>11.72</td>\n",
       "      <td>585,228.00</td>\n",
       "      <td>130,760.00</td>\n",
       "      <td>21,210.09</td>\n",
       "      <td>-1</td>\n",
       "    </tr>\n",
       "    <tr>\n",
       "      <th>3772</th>\n",
       "      <td>Natal</td>\n",
       "      <td>RN</td>\n",
       "      <td>97.19</td>\n",
       "      <td>39.08</td>\n",
       "      <td>96.38</td>\n",
       "      <td>21.93</td>\n",
       "      <td>534,621.00</td>\n",
       "      <td>24,668.00</td>\n",
       "      <td>26,497.08</td>\n",
       "      <td>-1</td>\n",
       "    </tr>\n",
       "    <tr>\n",
       "      <th>3185</th>\n",
       "      <td>Teresina</td>\n",
       "      <td>PI</td>\n",
       "      <td>95.59</td>\n",
       "      <td>29.25</td>\n",
       "      <td>123.45</td>\n",
       "      <td>9.53</td>\n",
       "      <td>609,442.00</td>\n",
       "      <td>38,010.00</td>\n",
       "      <td>22,481.67</td>\n",
       "      <td>-1</td>\n",
       "    </tr>\n",
       "    <tr>\n",
       "      <th>2655</th>\n",
       "      <td>João Pessoa</td>\n",
       "      <td>PB</td>\n",
       "      <td>100.00</td>\n",
       "      <td>79.30</td>\n",
       "      <td>81.99</td>\n",
       "      <td>44.74</td>\n",
       "      <td>165,631.00</td>\n",
       "      <td>0.00</td>\n",
       "      <td>24,319.82</td>\n",
       "      <td>-1</td>\n",
       "    </tr>\n",
       "    <tr>\n",
       "      <th>2872</th>\n",
       "      <td>Jaboatão dos Guararapes</td>\n",
       "      <td>PE</td>\n",
       "      <td>78.77</td>\n",
       "      <td>19.22</td>\n",
       "      <td>56.69</td>\n",
       "      <td>4.75</td>\n",
       "      <td>563,523.00</td>\n",
       "      <td>148,085.00</td>\n",
       "      <td>19,463.25</td>\n",
       "      <td>-1</td>\n",
       "    </tr>\n",
       "    <tr>\n",
       "      <th>4713</th>\n",
       "      <td>Aracaju</td>\n",
       "      <td>SE</td>\n",
       "      <td>99.78</td>\n",
       "      <td>52.45</td>\n",
       "      <td>81.60</td>\n",
       "      <td>30.34</td>\n",
       "      <td>308,593.00</td>\n",
       "      <td>1,455.00</td>\n",
       "      <td>25,185.55</td>\n",
       "      <td>-1</td>\n",
       "    </tr>\n",
       "  </tbody>\n",
       "</table>\n",
       "</div>"
      ],
      "text/plain": [
       "                    MUNICIPIO ESTADO  PC_POP_AGUA  PC_POP_ESGOTO  \\\n",
       "537                  Salvador     BA        91.01          81.29   \n",
       "677                 Fortaleza     CE        77.31          49.89   \n",
       "2917                   Recife     PE        88.12          43.54   \n",
       "1313                 São Luís     MA        82.02          48.26   \n",
       "68                     Maceió     AL        87.08          42.19   \n",
       "3772                    Natal     RN        97.19          39.08   \n",
       "3185                 Teresina     PI        95.59          29.25   \n",
       "2655              João Pessoa     PB       100.00          79.30   \n",
       "2872  Jaboatão dos Guararapes     PE        78.77          19.22   \n",
       "4713                  Aracaju     SE        99.78          52.45   \n",
       "\n",
       "      VOL_AGUA_TRATADA_DISP_PER_CAPITA  VOL_ESGOTO_COLETADO_PER_CAPITA  \\\n",
       "537                              95.35                           50.69   \n",
       "677                              70.83                           20.91   \n",
       "2917                             98.29                           27.19   \n",
       "1313                             61.94                           27.98   \n",
       "68                               69.37                           11.72   \n",
       "3772                             96.38                           21.93   \n",
       "3185                            123.45                            9.53   \n",
       "2655                             81.99                           44.74   \n",
       "2872                             56.69                            4.75   \n",
       "4713                             81.60                           30.34   \n",
       "\n",
       "      POP_SEM_ESGOTO  POP_SEM_AGUA  PIB_PER_CAPITA  Cluster_DBScan  \n",
       "537       534,726.00    256,952.00       21,231.48              -1  \n",
       "677     1,324,454.00    599,781.00       23,436.66              -1  \n",
       "2917      924,735.00    194,525.00       31,743.72              -1  \n",
       "1313      566,430.00    196,777.00       27,226.41              -1  \n",
       "68        585,228.00    130,760.00       21,210.09              -1  \n",
       "3772      534,621.00     24,668.00       26,497.08              -1  \n",
       "3185      609,442.00     38,010.00       22,481.67              -1  \n",
       "2655      165,631.00          0.00       24,319.82              -1  \n",
       "2872      563,523.00    148,085.00       19,463.25              -1  \n",
       "4713      308,593.00      1,455.00       25,185.55              -1  "
      ]
     },
     "execution_count": 98,
     "metadata": {},
     "output_type": "execute_result"
    }
   ],
   "source": [
    "#Visualiando uma amostra dos elementos classificados como Cluster -1 segundo o algorítmo DBScan\n",
    "#ordenado em ordem descrescente de POT_TOT\n",
    "data[data['Cluster_DBScan'] == -1].sort_values(by='POP_TOT', ascending=False)[view_attributes].head(10)"
   ]
  },
  {
   "cell_type": "markdown",
   "metadata": {},
   "source": [
    "### Obtendo regras de agrupamentos de municípios a partir do algoritmo de 'Árvore de Decisão' sobre os agrupamentos obtidos anteriormente com o algoritmo DBScan"
   ]
  },
  {
   "cell_type": "code",
   "execution_count": 99,
   "metadata": {},
   "outputs": [],
   "source": [
    "#Os atributos usados para inferência serão os da lista cluster_attributes\n",
    "X = data[cluster_attributes]"
   ]
  },
  {
   "cell_type": "code",
   "execution_count": 100,
   "metadata": {},
   "outputs": [],
   "source": [
    "#O atributo alvo de aprendizado será a classificação obtida anterirmente e armazenada\n",
    "#no atributo 'Cluster_DBScan'\n",
    "y = data['Cluster_DBScan'].astype(int)"
   ]
  },
  {
   "cell_type": "code",
   "execution_count": 101,
   "metadata": {},
   "outputs": [],
   "source": [
    "#Divide os dados em dois conjuntos. Um de treino e outro de teste.\n",
    "#Usarei nesse caso 75% dos meus registros par treino e 25% para teste\n",
    "X_train, X_test, y_train, y_test = train_test_split(X, y, test_size=0.25, random_state=0, shuffle=False)"
   ]
  },
  {
   "cell_type": "code",
   "execution_count": 102,
   "metadata": {},
   "outputs": [
    {
     "data": {
      "text/plain": [
       "(1345, 3)"
      ]
     },
     "execution_count": 102,
     "metadata": {},
     "output_type": "execute_result"
    }
   ],
   "source": [
    "X_train.shape"
   ]
  },
  {
   "cell_type": "code",
   "execution_count": 103,
   "metadata": {},
   "outputs": [
    {
     "data": {
      "text/plain": [
       "(449, 3)"
      ]
     },
     "execution_count": 103,
     "metadata": {},
     "output_type": "execute_result"
    }
   ],
   "source": [
    "X_test.shape"
   ]
  },
  {
   "cell_type": "markdown",
   "metadata": {},
   "source": [
    "**Nota metodológica:** Para evitar que a árvore cresça muito em profundidade e torne o resultamo initeligível, optei por limitar a profundidade da árvore ao segundo nível através do parâmetro max_depth=2. Isso irá tornar a regra fácil de ser transformada em uma norma ou ser explicada para um gestor público."
   ]
  },
  {
   "cell_type": "code",
   "execution_count": 104,
   "metadata": {},
   "outputs": [
    {
     "data": {
      "text/plain": [
       "DecisionTreeClassifier(max_depth=2, random_state=0)"
      ]
     },
     "execution_count": 104,
     "metadata": {},
     "output_type": "execute_result"
    }
   ],
   "source": [
    "#Treinamento do modelo usando o algoritmo de classificação por árvore de decisão\n",
    "#Para o trino foi usado o conjunto de treinamento\n",
    "decision_tree_model = DecisionTreeClassifier(random_state=0, max_depth=2)\n",
    "decision_tree_model.fit(X_train, np.array(y_train).ravel())"
   ]
  },
  {
   "cell_type": "code",
   "execution_count": 105,
   "metadata": {},
   "outputs": [],
   "source": [
    "#Prevendo os valores para o conjungo de teste utilizando o aprendizida acima\n",
    "y_pred = decision_tree_model.predict(X_test)"
   ]
  },
  {
   "cell_type": "markdown",
   "metadata": {},
   "source": [
    "**Nota metodológica:** Após efetuarmos o treinamento, tentamos prever no passo acima quais seriam os valores do atributo Cluster_DBScan para o conjunto de teste. Ao confrontar os valores previstos para Cluster_DBScan com os valores reais obtemos uma matriz de confusão com os números de falsos positivos, falsos negativos, positivos verdadeiros e negativos verdadeiros. A partir desses é possível calcular os valores de precisão, recall e F1 Score para avaliação do modelo."
   ]
  },
  {
   "cell_type": "code",
   "execution_count": 106,
   "metadata": {},
   "outputs": [
    {
     "name": "stdout",
     "output_type": "stream",
     "text": [
      "[[ 41   5]\n",
      " [  6 397]]\n"
     ]
    }
   ],
   "source": [
    "#Obtendo a matriz de confusão\n",
    "cm = confusion_matrix(y_test.values, y_pred)\n",
    "print(cm)"
   ]
  },
  {
   "cell_type": "code",
   "execution_count": 107,
   "metadata": {},
   "outputs": [],
   "source": [
    "#Calculando precisão, recall e f1_score\n",
    "score = precision_recall_fscore_support(y_test.values, y_pred, zero_division=0, average='micro')\n",
    "precision = score[0]\n",
    "recall = score[1]\n",
    "f1_score = score[2]"
   ]
  },
  {
   "cell_type": "code",
   "execution_count": 108,
   "metadata": {},
   "outputs": [
    {
     "name": "stdout",
     "output_type": "stream",
     "text": [
      "Precision: 97.55%\n",
      "Recall: 97.55%\n",
      "F1 Score: 97.55%\n"
     ]
    }
   ],
   "source": [
    "print(\"Precision: %.2f%%\" %(precision*100))\n",
    "print(\"Recall: %.2f%%\" %(recall*100))\n",
    "print(\"F1 Score: %.2f%%\" %(recall*100))"
   ]
  },
  {
   "cell_type": "markdown",
   "metadata": {},
   "source": [
    "### OBSERVAÇÕES DA ANÁLISE:  \n",
    "   Pelos valores de precisão, recall e F1 score conclui-se que o modelo de aprendizado usando o algoritmo de árvore de decisão até o primeiro nível teve um alto nível de acerto ao tentar prever o agrupamento (cluster usando DBScan) ao qual o município pertence."
   ]
  },
  {
   "cell_type": "code",
   "execution_count": 109,
   "metadata": {},
   "outputs": [
    {
     "name": "stdout",
     "output_type": "stream",
     "text": [
      "|--- POP_SEM_ESGOTO <= 41749.00\n",
      "|   |--- PIB_PER_CAPITA <= 24353.61\n",
      "|   |   |--- class: 0\n",
      "|   |--- PIB_PER_CAPITA >  24353.61\n",
      "|   |   |--- class: -1\n",
      "|--- POP_SEM_ESGOTO >  41749.00\n",
      "|   |--- POP_SEM_ESGOTO <= 54076.50\n",
      "|   |   |--- class: -1\n",
      "|   |--- POP_SEM_ESGOTO >  54076.50\n",
      "|   |   |--- class: -1\n",
      "\n"
     ]
    }
   ],
   "source": [
    "#Exportando as regras inferidos durante o treinamento. Por questões de inteligibilidade\n",
    "#serão exibidas as regrs apenas até o segundo nível\n",
    "r = export_text(decision_tree_model, feature_names=list(data[cluster_attributes].columns), max_depth=2)\n",
    "print (r)"
   ]
  },
  {
   "cell_type": "markdown",
   "metadata": {},
   "source": [
    "### OBSERVAÇÕES DA ANÁLISE:  \n",
    "Considerando a região analisada, presume-se que os municípios classificados pelo algoritmo DBScan como grupo -1 serão aqueles com maior atratividade para os interessados em participar de leilões para concessão de serviço de saneamento básico.\n",
    "\n",
    "Um município dessa região pertencerá a esse grupo (-1) se possuir uma população sem acesso ao serviço de coleta de esgoto maior que 41.749 habitantes (mercado potencial), ou ainda, se mesmo possuindo menos de 41.749 habitantes possuir renda per capita anual maior que R$24.353,61 (representando menor risco de inadimplência)."
   ]
  },
  {
   "cell_type": "markdown",
   "metadata": {},
   "source": [
    "## Referências"
   ]
  },
  {
   "cell_type": "markdown",
   "metadata": {},
   "source": [
    "ALADE, Tola. Tutorial: How to determine the optimal number of clusters for k-means clusterin. **cambridgespark.com**, 2018. Disponível em:  https://blog.cambridgespark.com/how-to-determine-the-optimal-number-of-clusters-for-k-means-clustering-14f27070048f. Acesso em: 02 de jul. de 2020.  \n",
    "\n",
    "BIRANT, Derya et al. ST-DBSCAN: An algorithm for clustering spatial–temporal data. **researchgate.net**, 2007. Disponível em: https://www.researchgate.net/publication/223059919_ST-DBSCAN_An_algorithm_for_clustering_spatial-temporal_data. Acesso em: 07 de jul. de 2020.\n",
    "\n",
    "CLUSTERING. **scikit-learn.org**, 2019. Disponível em: https://scikit-learn.org/stable/modules/clustering.html#clustering. Acesso em: 02 de jul. de 2020. \n",
    "\n",
    "DBSCAN. **wikipedia.org**, 2020. Disponível em: https://en.wikipedia.org/wiki/DBSCAN. Acesso em: 02 de jul. de 2020. \n",
    "\n",
    "K-MEANS CLUSTERING. **wikipedia.org**, 2020. Disponível em: https://en.wikipedia.org/wiki/K-means_clustering. Acesso em:  02 de jul. de 2020. \n",
    "\n",
    "MAKLIN, Cory. K-means Clustering Python Example. **towardsdatascience.com**, 2018. Disponível em: https://towardsdatascience.com/machine-learning-algorithms-part-9-k-means-example-in-python-f2ad05ed5203. Acesso em: 02 de jul. de 2020.  \n",
    "\n",
    "MAKLIN, Cory. DBSCAN Python Example: The Optimal Value For Epsilon (EPS).  **towardsdatascience.com**, 2019. Disponível em: https://towardsdatascience.com/machine-learning-clustering-dbscan-determine-the-optimal-value-for-epsilon-eps-python-example-3100091cfbc. Acesso em: 02 de jul. de 2020.  \n",
    "\n",
    "SHIMAKURA, Silvia. Interpretação do coeficiente de correlação. **Laboratório de Estatística e Geoinformação**, 2006. Disponível em: :http://leg.ufpr.br/~silvia/CE003/node74.html. Acesso em: 02 de jul. de 2020.  \n",
    "\n",
    "SHUNG, Koo Ping. Accuracy, Precision, Recall or F1?. **towardsdatascience.com**, 2015. Disponível em:https://towardsdatascience.com/accuracy-precision-recall-or-f1-331fb37c5cb9. Acessado em: 09 de jul. 2020. "
   ]
  },
  {
   "cell_type": "code",
   "execution_count": null,
   "metadata": {},
   "outputs": [],
   "source": []
  }
 ],
 "metadata": {
  "celltoolbar": "Raw Cell Format",
  "kernelspec": {
   "display_name": "Python 3",
   "language": "python",
   "name": "python3"
  },
  "language_info": {
   "codemirror_mode": {
    "name": "ipython",
    "version": 3
   },
   "file_extension": ".py",
   "mimetype": "text/x-python",
   "name": "python",
   "nbconvert_exporter": "python",
   "pygments_lexer": "ipython3",
   "version": "3.7.3"
  }
 },
 "nbformat": 4,
 "nbformat_minor": 2
}
